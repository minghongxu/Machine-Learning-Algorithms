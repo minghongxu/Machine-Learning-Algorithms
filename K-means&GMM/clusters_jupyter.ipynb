{
 "cells": [
  {
   "cell_type": "code",
   "execution_count": 184,
   "metadata": {},
   "outputs": [],
   "source": [
    "import math\n",
    "import numpy as np\n",
    "import random\n",
    "from numpy import linalg as LA"
   ]
  },
  {
   "cell_type": "code",
   "execution_count": 3,
   "metadata": {},
   "outputs": [],
   "source": [
    "txt_file = \"clusters.txt\""
   ]
  },
  {
   "cell_type": "code",
   "execution_count": 628,
   "metadata": {},
   "outputs": [],
   "source": [
    "a = np.loadtxt(txt_file, delimiter=',')"
   ]
  },
  {
   "cell_type": "markdown",
   "metadata": {},
   "source": [
    "##### K-means"
   ]
  },
  {
   "cell_type": "code",
   "execution_count": 97,
   "metadata": {},
   "outputs": [],
   "source": [
    "def distance(point1, point2):\n",
    "    dis = ((point2[0] - point1[0])**2 + (point2[1] - point1[1])**2)**0.5\n",
    "    return dis"
   ]
  },
  {
   "cell_type": "code",
   "execution_count": 98,
   "metadata": {},
   "outputs": [],
   "source": [
    "def assign_centroid(array, centroid1, centroid2, centroid3):\n",
    "    group1 = []\n",
    "    group2 = []\n",
    "    group3 = []\n",
    "    for point in array:\n",
    "        min_dis = min(distance(point,centroid1), distance(point,centroid2), distance(point,centroid3))\n",
    "        if min_dis == distance(point,centroid1):\n",
    "            group1.append(point)\n",
    "        elif min_dis == distance(point,centroid2):\n",
    "            group2.append(point)\n",
    "        else:\n",
    "            group3.append(point)\n",
    "    return group1, group2, group3"
   ]
  },
  {
   "cell_type": "code",
   "execution_count": 103,
   "metadata": {},
   "outputs": [],
   "source": [
    "def compute_centroid(group1, group2, group3):\n",
    "    centroid1 = np.array([0.0,0.0])\n",
    "    centroid2 = np.array([0.0,0.0])\n",
    "    centroid3 = np.array([0.0,0.0])\n",
    "    for point in group1:\n",
    "        centroid1 += point\n",
    "    for point in group2:\n",
    "        centroid2 += point\n",
    "    for point in group3:\n",
    "        centroid3 += point\n",
    "    return centroid1/len(group1), centroid2/len(group2), centroid3/len(group3)"
   ]
  },
  {
   "cell_type": "code",
   "execution_count": 104,
   "metadata": {},
   "outputs": [],
   "source": [
    "def k_means(array, tolerance, max_iter):\n",
    "    iter = 0\n",
    "    x_max = max(array[: , 0])\n",
    "    x_min = min(array[: , 0])\n",
    "    y_max = max(array[: , 1])\n",
    "    y_min = min(array[: , 1])\n",
    "    centroid1 = [random.uniform(x_max,x_min),random.uniform(y_max,y_min)]\n",
    "    centroid2 = [random.uniform(x_max,x_min),random.uniform(y_max,y_min)]\n",
    "    centroid3 = [random.uniform(x_max,x_min),random.uniform(y_max,y_min)]\n",
    "    while iter < max_iter:\n",
    "        iter += 1\n",
    "        group1, group2, group3 = assign_centroid(array, centroid1, centroid2, centroid3)\n",
    "        centroid1_temp, centroid2_temp, centroid3_temp = compute_centroid(group1, group2, group3)\n",
    "        if distance(centroid1,centroid1_temp) < tolerance and distance(centroid2,centroid2_temp) < tolerance and distance(centroid3,centroid3_temp) < tolerance:\n",
    "            break\n",
    "        centroid1, centroid2, centroid3 = centroid1_temp, centroid2_temp, centroid3_temp\n",
    "    return centroid1, centroid2, centroid3"
   ]
  },
  {
   "cell_type": "code",
   "execution_count": 348,
   "metadata": {},
   "outputs": [],
   "source": [
    "def weight(array, centroid1, centroid2, centroid3):\n",
    "    total = 0\n",
    "    group1, group2, group3 = assign_centroid(array, centroid1, centroid2, centroid3)\n",
    "    for point in group1:\n",
    "        total += distance(point, centroid1)\n",
    "    for point in group2:\n",
    "        total += distance(point, centroid2)\n",
    "    for point in group3:\n",
    "        total += distance(point, centroid3)\n",
    "    return total"
   ]
  },
  {
   "cell_type": "code",
   "execution_count": null,
   "metadata": {},
   "outputs": [],
   "source": []
  },
  {
   "cell_type": "code",
   "execution_count": 349,
   "metadata": {
    "scrolled": false
   },
   "outputs": [
    {
     "name": "stderr",
     "output_type": "stream",
     "text": [
      "/opt/anaconda3/lib/python3.7/site-packages/ipykernel_launcher.py:11: RuntimeWarning: invalid value encountered in true_divide\n",
      "  # This is added back by InteractiveShellApp.init_path()\n"
     ]
    },
    {
     "data": {
      "text/plain": [
       "(array([-0.97476572, -0.68419304]),\n",
       " array([5.62016573, 5.02622634]),\n",
       " array([3.08318256, 1.77621374]))"
      ]
     },
     "execution_count": 349,
     "metadata": {},
     "output_type": "execute_result"
    }
   ],
   "source": [
    "value = 100000\n",
    "\n",
    "for i in range(20):\n",
    "    centroid1, centroid2, centroid3 = k_means(a, 0.0001, 3000)\n",
    "    v = weight(a, centroid1, centroid2, centroid3)\n",
    "    if v < value:\n",
    "        value = v\n",
    "        final1, final2, final3  = centroid1, centroid2, centroid3\n",
    "final1, final2, final3"
   ]
  },
  {
   "cell_type": "markdown",
   "metadata": {},
   "source": [
    "##### GMM"
   ]
  },
  {
   "cell_type": "code",
   "execution_count": 834,
   "metadata": {},
   "outputs": [],
   "source": [
    "def get_mean(array, p):\n",
    "    #p should be a row of probability\n",
    "    s = np.array([0.0,0.0])\n",
    "    for i in range(len(array)):\n",
    "        s += array[i]*p[i]\n",
    "    return s/sum(p)"
   ]
  },
  {
   "cell_type": "code",
   "execution_count": 835,
   "metadata": {},
   "outputs": [],
   "source": [
    "def covarians_matrix(array, mean, p):\n",
    "    #input mean here is flat array, not matrix\n",
    "    d = len(mean)\n",
    "    matrix = np.zeros([d,d])\n",
    "    for i in range(len(array)):\n",
    "        xi = (array[i]-mean).reshape(2,-1)\n",
    "        matrix += np.dot(xi, xi.T)*p[i]\n",
    "    return matrix/sum(p)"
   ]
  },
  {
   "cell_type": "code",
   "execution_count": 836,
   "metadata": {},
   "outputs": [],
   "source": [
    "def multivariables_gaussian(x, mu, covarians_matrix):\n",
    "    #input x,mu here should be flat array, not matrix\n",
    "    x = x.reshape(2,-1)\n",
    "    mu = mu.reshape(2,-1)\n",
    "    d = len(x)\n",
    "    pi, e = math.pi, math.e\n",
    "    power = np.dot(-0.5*(x-mu).T, LA.inv(covarians_matrix))\n",
    "    power = np.dot(power, x-mu)\n",
    "    p = (1/(pi**(d/2))) * (LA.det(covarians_matrix)**-0.5) * (e**power)\n",
    "    return p[0][0]"
   ]
  },
  {
   "cell_type": "code",
   "execution_count": null,
   "metadata": {},
   "outputs": [],
   "source": []
  },
  {
   "cell_type": "code",
   "execution_count": 837,
   "metadata": {},
   "outputs": [],
   "source": [
    "def normalize(x):\n",
    "    sum = 0\n",
    "    for value in x:\n",
    "        sum += value\n",
    "    return x/sum"
   ]
  },
  {
   "cell_type": "code",
   "execution_count": 854,
   "metadata": {},
   "outputs": [],
   "source": [
    "def find_parameters(array, ric):\n",
    "    #output elements in list mu is flat array, not matrix\n",
    "    mu = []\n",
    "    cov_matrices = []\n",
    "    amp = []\n",
    "    for row in ric:\n",
    "        array_temp = np.zeros([array.shape[0],array.shape[1]])\n",
    "        sum_r = 0\n",
    "        for i in range(len(row)):\n",
    "            array_temp[i] = array[i]*row[i]\n",
    "            sum_r += row[i]\n",
    "        mean = get_mean(array,row)\n",
    "        mu.append(mean)\n",
    "        cov_matrices.append(covarians_matrix(array, mean, row))\n",
    "        amp.append(sum_r/len(array))#need make sure\n",
    "    return mu, cov_matrices, amp"
   ]
  },
  {
   "cell_type": "code",
   "execution_count": 849,
   "metadata": {},
   "outputs": [],
   "source": [
    "def find_ric(array, mu, cov_matrices, amp):\n",
    "    k = len(mu)\n",
    "    ric = np.zeros([k,len(array)])\n",
    "    for c in range(k):\n",
    "        for i in range(len(array)):\n",
    "            denominator = 0\n",
    "            for j in range(k):  \n",
    "                denominator += amp[j]*multivariables_gaussian(array[i], mu[j], cov_matrices[j])\n",
    "            ric[c,i] =  (amp[c]*multivariables_gaussian(array[i], mu[c], cov_matrices[c]))/denominator\n",
    "    return ric"
   ]
  },
  {
   "cell_type": "code",
   "execution_count": 534,
   "metadata": {},
   "outputs": [],
   "source": [
    "#learn more later\n",
    "def log_likelihood(ric):\n",
    "    s = 0\n",
    "    result = 0\n",
    "    for row in ric:\n",
    "        for value in row:\n",
    "            s += value\n",
    "            result += value * math.log(value)\n",
    "    return s*math.log(s) - result"
   ]
  },
  {
   "cell_type": "code",
   "execution_count": null,
   "metadata": {},
   "outputs": [],
   "source": [
    "#coorect version\n",
    "def log_likelihood(array, mu, cov_matrices, amp):\n",
    "    result = 0\n",
    "    for i in range(len(array)):\n",
    "        s = 0\n",
    "        for j in range(k):\n",
    "            s += amp[j]*multivariables_gaussian(array[i], mu[j], cov_matrices[j])\n",
    "        result += math.log(s)\n",
    "    return result"
   ]
  },
  {
   "cell_type": "code",
   "execution_count": 850,
   "metadata": {},
   "outputs": [],
   "source": [
    "def max_dif(ric, ricnew):\n",
    "    dif = 0\n",
    "    for i in range(ric.shape[0]):\n",
    "        for j in range(ric.shape[1]):\n",
    "            diftemp = abs(ricnew[i,j]-ric[i,j])\n",
    "            if diftemp > dif:\n",
    "                dif = diftemp\n",
    "    return dif"
   ]
  },
  {
   "cell_type": "code",
   "execution_count": 879,
   "metadata": {},
   "outputs": [],
   "source": [
    "def GMM(array, k, tolerance, max_iter):\n",
    "    iter = 0\n",
    "    ric = np.random.uniform(0,1, size=(k,len(array)))\n",
    "    for i in range(len(array)):\n",
    "        ric[:,i] = normalize(ric[:,i])\n",
    "    mu = []\n",
    "    cov_matrices = []\n",
    "    amp = []\n",
    "    while iter < max_iter:\n",
    "        iter += 1\n",
    "        mu, cov_matrices, amp = find_parameters(array, ric)\n",
    "        ric_temp = find_ric(array, mu, cov_matrices, amp)\n",
    "        if max_dif(ric, ric_temp) < tolerance:\n",
    "            break\n",
    "        ric = ric_temp\n",
    "    return mu, cov_matrices, amp"
   ]
  },
  {
   "cell_type": "code",
   "execution_count": 880,
   "metadata": {
    "scrolled": true
   },
   "outputs": [
    {
     "data": {
      "text/plain": [
       "([array([4.30492089, 3.26247329]),\n",
       "  array([-1.5838815 , -0.05238686]),\n",
       "  array([-0.53366186, -1.10326596])],\n",
       " [array([[3.83838105, 2.50828038],\n",
       "         [2.50828038, 5.31016061]]), array([[1.13123205, 0.58290972],\n",
       "         [0.58290972, 2.96445066]]), array([[ 0.58203794, -0.08998461],\n",
       "         [-0.08998461,  0.87936389]])],\n",
       " [0.4469790242308793, 0.25742718096887446, 0.2955937948002463])"
      ]
     },
     "execution_count": 880,
     "metadata": {},
     "output_type": "execute_result"
    }
   ],
   "source": [
    "log = 0\n",
    "for i in range(20):\n",
    "    mu, cov_matrices, amp = GMM(a, 3, 0.0001, 500)\n",
    "    ric = find_ric(a, mu, cov_matrices, amp)\n",
    "    if log_likelihood(ric) > log:\n",
    "        log = log_likelihood(ric)\n",
    "        final_mu, final_cov_matrices, final_amp = mu, cov_matrices, amp\n",
    "final_mu, final_cov_matrices, final_amp"
   ]
  }
 ],
 "metadata": {
  "kernelspec": {
   "display_name": "Python 3",
   "language": "python",
   "name": "python3"
  },
  "language_info": {
   "codemirror_mode": {
    "name": "ipython",
    "version": 3
   },
   "file_extension": ".py",
   "mimetype": "text/x-python",
   "name": "python",
   "nbconvert_exporter": "python",
   "pygments_lexer": "ipython3",
   "version": "3.7.4"
  }
 },
 "nbformat": 4,
 "nbformat_minor": 2
}
