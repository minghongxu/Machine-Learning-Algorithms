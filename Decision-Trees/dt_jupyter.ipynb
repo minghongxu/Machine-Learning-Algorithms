{
 "cells": [
  {
   "cell_type": "markdown",
   "metadata": {},
   "source": [
    "# Inf 552 HW 1"
   ]
  },
  {
   "cell_type": "markdown",
   "metadata": {},
   "source": [
    "### Group members: Minghong Xu, Zhixin Xie"
   ]
  },
  {
   "cell_type": "markdown",
   "metadata": {},
   "source": [
    "#### Individual contributions: \n",
    "We cooperated together and completed this assignment."
   ]
  },
  {
   "cell_type": "markdown",
   "metadata": {},
   "source": [
    "## Part 1: Implementation"
   ]
  },
  {
   "cell_type": "code",
   "execution_count": 1,
   "metadata": {},
   "outputs": [],
   "source": [
    "import math\n",
    "import pandas as pd"
   ]
  },
  {
   "cell_type": "code",
   "execution_count": 2,
   "metadata": {},
   "outputs": [],
   "source": [
    "txt_file = r\"dt_data.txt\""
   ]
  },
  {
   "cell_type": "code",
   "execution_count": 3,
   "metadata": {
    "scrolled": true
   },
   "outputs": [
    {
     "name": "stderr",
     "output_type": "stream",
     "text": [
      "/opt/anaconda3/lib/python3.7/site-packages/ipykernel_launcher.py:1: ParserWarning: Falling back to the 'python' engine because the 'c' engine does not support regex separators (separators > 1 char and different from '\\s+' are interpreted as regex); you can avoid this warning by specifying engine='python'.\n",
      "  \"\"\"Entry point for launching an IPython kernel.\n"
     ]
    }
   ],
   "source": [
    "df = pd.read_table(txt_file, skiprows = 0, sep = ', ', header = 0)"
   ]
  },
  {
   "cell_type": "code",
   "execution_count": 4,
   "metadata": {},
   "outputs": [],
   "source": [
    "df = df.rename(columns={'(Occupied': 'Occupied'})\n",
    "df = df.rename(columns={'Enjoy)': 'Enjoy'})\n",
    "\n",
    "df.Enjoy = df.Enjoy.str.replace(';', '')\n",
    "\n",
    "df.Occupied = df.Occupied.str.replace(r'^(\\d*)[:]*[\\s]*','')"
   ]
  },
  {
   "cell_type": "code",
   "execution_count": 5,
   "metadata": {},
   "outputs": [
    {
     "data": {
      "text/html": [
       "<div>\n",
       "<style scoped>\n",
       "    .dataframe tbody tr th:only-of-type {\n",
       "        vertical-align: middle;\n",
       "    }\n",
       "\n",
       "    .dataframe tbody tr th {\n",
       "        vertical-align: top;\n",
       "    }\n",
       "\n",
       "    .dataframe thead th {\n",
       "        text-align: right;\n",
       "    }\n",
       "</style>\n",
       "<table border=\"1\" class=\"dataframe\">\n",
       "  <thead>\n",
       "    <tr style=\"text-align: right;\">\n",
       "      <th></th>\n",
       "      <th>Occupied</th>\n",
       "      <th>Price</th>\n",
       "      <th>Music</th>\n",
       "      <th>Location</th>\n",
       "      <th>VIP</th>\n",
       "      <th>Favorite Beer</th>\n",
       "      <th>Enjoy</th>\n",
       "    </tr>\n",
       "  </thead>\n",
       "  <tbody>\n",
       "    <tr>\n",
       "      <td>0</td>\n",
       "      <td>High</td>\n",
       "      <td>Expensive</td>\n",
       "      <td>Loud</td>\n",
       "      <td>Talpiot</td>\n",
       "      <td>No</td>\n",
       "      <td>No</td>\n",
       "      <td>No</td>\n",
       "    </tr>\n",
       "    <tr>\n",
       "      <td>1</td>\n",
       "      <td>High</td>\n",
       "      <td>Expensive</td>\n",
       "      <td>Loud</td>\n",
       "      <td>City-Center</td>\n",
       "      <td>Yes</td>\n",
       "      <td>No</td>\n",
       "      <td>Yes</td>\n",
       "    </tr>\n",
       "    <tr>\n",
       "      <td>2</td>\n",
       "      <td>Moderate</td>\n",
       "      <td>Normal</td>\n",
       "      <td>Quiet</td>\n",
       "      <td>City-Center</td>\n",
       "      <td>No</td>\n",
       "      <td>Yes</td>\n",
       "      <td>Yes</td>\n",
       "    </tr>\n",
       "    <tr>\n",
       "      <td>3</td>\n",
       "      <td>Moderate</td>\n",
       "      <td>Expensive</td>\n",
       "      <td>Quiet</td>\n",
       "      <td>German-Colony</td>\n",
       "      <td>No</td>\n",
       "      <td>No</td>\n",
       "      <td>No</td>\n",
       "    </tr>\n",
       "    <tr>\n",
       "      <td>4</td>\n",
       "      <td>Moderate</td>\n",
       "      <td>Expensive</td>\n",
       "      <td>Quiet</td>\n",
       "      <td>German-Colony</td>\n",
       "      <td>Yes</td>\n",
       "      <td>Yes</td>\n",
       "      <td>Yes</td>\n",
       "    </tr>\n",
       "  </tbody>\n",
       "</table>\n",
       "</div>"
      ],
      "text/plain": [
       "   Occupied      Price  Music       Location  VIP Favorite Beer Enjoy\n",
       "0      High  Expensive   Loud        Talpiot   No            No    No\n",
       "1      High  Expensive   Loud    City-Center  Yes            No   Yes\n",
       "2  Moderate     Normal  Quiet    City-Center   No           Yes   Yes\n",
       "3  Moderate  Expensive  Quiet  German-Colony   No            No    No\n",
       "4  Moderate  Expensive  Quiet  German-Colony  Yes           Yes   Yes"
      ]
     },
     "execution_count": 5,
     "metadata": {},
     "output_type": "execute_result"
    }
   ],
   "source": [
    "df.head()"
   ]
  },
  {
   "cell_type": "code",
   "execution_count": 6,
   "metadata": {},
   "outputs": [],
   "source": [
    "def entropy(l:list):\n",
    "    e = 0\n",
    "    for p in l:\n",
    "        if p == 0 or p==1:\n",
    "            pass\n",
    "        else:\n",
    "            e = e-p*math.log(p,2)\n",
    "    return e"
   ]
  },
  {
   "cell_type": "code",
   "execution_count": 7,
   "metadata": {},
   "outputs": [],
   "source": [
    "def p_list(df, column):\n",
    "    l = []\n",
    "    for i in df[column].value_counts():\n",
    "        l.append(i/len(df))\n",
    "    return l"
   ]
  },
  {
   "cell_type": "code",
   "execution_count": 8,
   "metadata": {},
   "outputs": [],
   "source": [
    "def information_gain(df, column, label):\n",
    "    entropy_before = entropy(p_list(df, label))\n",
    "    entropy_after = 0\n",
    "    for i in df[column].value_counts().keys():\n",
    "        df_temp = df.loc[df[column] == i]\n",
    "        entropy_after += entropy(p_list(df_temp, label))*(len(df_temp)/len(df))\n",
    "    return entropy_before - entropy_after"
   ]
  },
  {
   "cell_type": "code",
   "execution_count": 9,
   "metadata": {},
   "outputs": [
    {
     "data": {
      "text/plain": [
       "0.13831794174248158"
      ]
     },
     "execution_count": 9,
     "metadata": {},
     "output_type": "execute_result"
    }
   ],
   "source": [
    "information_gain(df, 'Occupied', 'Enjoy')"
   ]
  },
  {
   "cell_type": "code",
   "execution_count": 10,
   "metadata": {},
   "outputs": [],
   "source": [
    "def choose_best_column(df, label):\n",
    "    best_column = 0\n",
    "    max_infor = 0\n",
    "    for i in df.columns:\n",
    "        if i == label:\n",
    "            return best_column\n",
    "        infor = information_gain(df, i, label)\n",
    "        if infor > max_infor:\n",
    "            best_column = i\n",
    "            max_infor = infor\n",
    "    return best_column"
   ]
  },
  {
   "cell_type": "code",
   "execution_count": 11,
   "metadata": {},
   "outputs": [
    {
     "data": {
      "text/plain": [
       "'Occupied'"
      ]
     },
     "execution_count": 11,
     "metadata": {},
     "output_type": "execute_result"
    }
   ],
   "source": [
    "choose_best_column(df, 'Enjoy')"
   ]
  },
  {
   "cell_type": "code",
   "execution_count": 12,
   "metadata": {},
   "outputs": [],
   "source": [
    "def create_tree(df, label):\n",
    "    tree = {}\n",
    "    best_column = choose_best_column(df, label)\n",
    "    tree[best_column] = {}\n",
    "    for i in df[best_column].value_counts().keys():\n",
    "        dftemp = df.loc[df[best_column] == i] \n",
    "        #print(information_gain(dftemp, sub_best_column, label))\n",
    "        if entropy(p_list(dftemp, label)) == 0:\n",
    "            tree[best_column].update({i:dftemp[label].values[0]})\n",
    "        elif choose_best_column(dftemp, label) == 0:\n",
    "            tree[best_column].update({i:dftemp[label].value_counts().keys()[0]})\n",
    "        else:\n",
    "            tree[best_column].update({i:create_tree(dftemp, label)})\n",
    "    return tree"
   ]
  },
  {
   "cell_type": "code",
   "execution_count": 13,
   "metadata": {},
   "outputs": [],
   "source": [
    "decision_tree = create_tree(df, 'Enjoy') "
   ]
  },
  {
   "cell_type": "code",
   "execution_count": 14,
   "metadata": {},
   "outputs": [],
   "source": [
    "test_data = {'Occupied':'Moderate', 'Price' : 'Cheap', 'Music' : 'Loud', 'Location' : 'City-Center', 'VIP' : 'No', 'Favorite Beer' : 'No'}\n"
   ]
  },
  {
   "cell_type": "code",
   "execution_count": 15,
   "metadata": {},
   "outputs": [],
   "source": [
    "def predict(tree, tdata):\n",
    "    key = list(tree.keys())[0]\n",
    "    value = tdata[key]\n",
    "    result = tree\n",
    "    while type(result) is dict:\n",
    "        result = result[key][value]\n",
    "        if type(result) is not dict:\n",
    "            return result\n",
    "        key = list(result.keys())[0]\n",
    "        value = tdata[key]\n",
    "    return result"
   ]
  },
  {
   "cell_type": "code",
   "execution_count": 16,
   "metadata": {},
   "outputs": [
    {
     "data": {
      "text/plain": [
       "'Yes'"
      ]
     },
     "execution_count": 16,
     "metadata": {},
     "output_type": "execute_result"
    }
   ],
   "source": [
    "predict(decision_tree, test_data)"
   ]
  },
  {
   "cell_type": "code",
   "execution_count": 17,
   "metadata": {},
   "outputs": [
    {
     "data": {
      "text/plain": [
       "{'Occupied': {'Moderate': {'Location': {'Ein-Karem': 'Yes',\n",
       "    'German-Colony': {'VIP': {'No': 'No', 'Yes': 'Yes'}},\n",
       "    'Mahane-Yehuda': 'Yes',\n",
       "    'Talpiot': {'Price': {'Cheap': 'No', 'Normal': 'Yes'}},\n",
       "    'City-Center': 'Yes'}},\n",
       "  'Low': {'Location': {'City-Center': {'Price': {'Normal': 'No',\n",
       "      'Cheap': 'No'}},\n",
       "    'Ein-Karem': {'Price': {'Cheap': 'Yes', 'Normal': 'No'}},\n",
       "    'Talpiot': 'No',\n",
       "    'Mahane-Yehuda': 'No'}},\n",
       "  'High': {'Location': {'City-Center': 'Yes',\n",
       "    'Talpiot': 'No',\n",
       "    'German-Colony': 'No',\n",
       "    'Mahane-Yehuda': 'Yes'}}}}"
      ]
     },
     "execution_count": 17,
     "metadata": {},
     "output_type": "execute_result"
    }
   ],
   "source": [
    "decision_tree"
   ]
  },
  {
   "cell_type": "code",
   "execution_count": 18,
   "metadata": {},
   "outputs": [],
   "source": [
    "count = 10\n",
    "def number_dict(d):\n",
    "    global count\n",
    "    l = list(d.keys())\n",
    "    for i in l:\n",
    "        if type(d[i]) is dict:\n",
    "            number_dict(d[i])\n",
    "        d[i+str(count)] = d.pop(i)\n",
    "        count += 1"
   ]
  },
  {
   "cell_type": "code",
   "execution_count": 19,
   "metadata": {},
   "outputs": [],
   "source": [
    "def tuple_list(tree):\n",
    "    l = []\n",
    "    for i in tree:\n",
    "        for j in tree[i]:\n",
    "            if type(tree[i][j]) is not dict:\n",
    "                l.append((i,tree[i][j],j))\n",
    "            else:\n",
    "                for k in tree[i][j]:\n",
    "                    l.append((i,k,j))\n",
    "                l = l + tuple_list(tree[i][j])\n",
    "    return l"
   ]
  },
  {
   "cell_type": "code",
   "execution_count": 20,
   "metadata": {},
   "outputs": [],
   "source": [
    "from graphviz import Digraph\n",
    "\n",
    "def draw_tree(tree):\n",
    "    gz=Digraph(\"Decision Tree\",'comment',None,None,'png',None,\"UTF-8\",\n",
    "               {'rankdir':'TB'},\n",
    "               {'color':'black','fontcolor':'black','fontname':'FangSong','fontsize':'12','style':'rounded','shape':'box'},\n",
    "               {'color':'#999999','fontcolor':'#888888','fontsize':'10','fontname':'FangSong'},None,False)\n",
    "    treecopy = tree.copy()\n",
    "    number_dict(treecopy)\n",
    "    l = tuple_list(treecopy)\n",
    "    for t in l:\n",
    "        gz.node(t[0],t[0])\n",
    "        gz.node(t[1],t[1])\n",
    "        gz.edge(t[0],t[1],t[2])\n",
    "    return gz\n",
    "\n",
    "#gz.node('e','success',{'color':'red','fontcolor':'red'})"
   ]
  },
  {
   "cell_type": "code",
   "execution_count": 21,
   "metadata": {},
   "outputs": [
    {
     "data": {
      "image/svg+xml": [
       "<?xml version=\"1.0\" encoding=\"UTF-8\" standalone=\"no\"?>\n",
       "<!DOCTYPE svg PUBLIC \"-//W3C//DTD SVG 1.1//EN\"\n",
       " \"http://www.w3.org/Graphics/SVG/1.1/DTD/svg11.dtd\">\n",
       "<!-- Generated by graphviz version 2.40.1 (20161225.0304)\n",
       " -->\n",
       "<!-- Title: Decision Tree Pages: 1 -->\n",
       "<svg width=\"1182pt\" height=\"293pt\"\n",
       " viewBox=\"0.00 0.00 1181.54 293.00\" xmlns=\"http://www.w3.org/2000/svg\" xmlns:xlink=\"http://www.w3.org/1999/xlink\">\n",
       "<g id=\"graph0\" class=\"graph\" transform=\"scale(1 1) rotate(0) translate(4 289)\">\n",
       "<title>Decision Tree</title>\n",
       "<polygon fill=\"#ffffff\" stroke=\"transparent\" points=\"-4,4 -4,-289 1177.5442,-289 1177.5442,4 -4,4\"/>\n",
       "<!-- Occupied41 -->\n",
       "<g id=\"node1\" class=\"node\">\n",
       "<title>Occupied41</title>\n",
       "<path fill=\"none\" stroke=\"#000000\" d=\"M653.5442,-285C653.5442,-285 596.5442,-285 596.5442,-285 590.5442,-285 584.5442,-279 584.5442,-273 584.5442,-273 584.5442,-261 584.5442,-261 584.5442,-255 590.5442,-249 596.5442,-249 596.5442,-249 653.5442,-249 653.5442,-249 659.5442,-249 665.5442,-255 665.5442,-261 665.5442,-261 665.5442,-273 665.5442,-273 665.5442,-279 659.5442,-285 653.5442,-285\"/>\n",
       "<text text-anchor=\"middle\" x=\"625.0442\" y=\"-263.9\" font-family=\"FangSong\" font-size=\"12.00\" fill=\"#000000\">Occupied41</text>\n",
       "</g>\n",
       "<!-- Location21 -->\n",
       "<g id=\"node2\" class=\"node\">\n",
       "<title>Location21</title>\n",
       "<path fill=\"none\" stroke=\"#000000\" d=\"M246.5442,-202C246.5442,-202 195.5442,-202 195.5442,-202 189.5442,-202 183.5442,-196 183.5442,-190 183.5442,-190 183.5442,-178 183.5442,-178 183.5442,-172 189.5442,-166 195.5442,-166 195.5442,-166 246.5442,-166 246.5442,-166 252.5442,-166 258.5442,-172 258.5442,-178 258.5442,-178 258.5442,-190 258.5442,-190 258.5442,-196 252.5442,-202 246.5442,-202\"/>\n",
       "<text text-anchor=\"middle\" x=\"221.0442\" y=\"-180.9\" font-family=\"FangSong\" font-size=\"12.00\" fill=\"#000000\">Location21</text>\n",
       "</g>\n",
       "<!-- Occupied41&#45;&gt;Location21 -->\n",
       "<g id=\"edge1\" class=\"edge\">\n",
       "<title>Occupied41&#45;&gt;Location21</title>\n",
       "<path fill=\"none\" stroke=\"#999999\" d=\"M584.4574,-258.6616C509.2371,-243.208 348.564,-210.1984 268.4707,-193.7436\"/>\n",
       "<polygon fill=\"#999999\" stroke=\"#999999\" points=\"269.149,-190.3099 258.6492,-191.7258 267.7402,-197.1667 269.149,-190.3099\"/>\n",
       "<text text-anchor=\"middle\" x=\"474.0442\" y=\"-223\" font-family=\"FangSong\" font-size=\"10.00\" fill=\"#888888\">Moderate22</text>\n",
       "</g>\n",
       "<!-- Location33 -->\n",
       "<g id=\"node7\" class=\"node\">\n",
       "<title>Location33</title>\n",
       "<path fill=\"none\" stroke=\"#000000\" d=\"M959.5442,-202C959.5442,-202 908.5442,-202 908.5442,-202 902.5442,-202 896.5442,-196 896.5442,-190 896.5442,-190 896.5442,-178 896.5442,-178 896.5442,-172 902.5442,-166 908.5442,-166 908.5442,-166 959.5442,-166 959.5442,-166 965.5442,-166 971.5442,-172 971.5442,-178 971.5442,-178 971.5442,-190 971.5442,-190 971.5442,-196 965.5442,-202 959.5442,-202\"/>\n",
       "<text text-anchor=\"middle\" x=\"934.0442\" y=\"-180.9\" font-family=\"FangSong\" font-size=\"12.00\" fill=\"#000000\">Location33</text>\n",
       "</g>\n",
       "<!-- Occupied41&#45;&gt;Location33 -->\n",
       "<g id=\"edge11\" class=\"edge\">\n",
       "<title>Occupied41&#45;&gt;Location33</title>\n",
       "<path fill=\"none\" stroke=\"#999999\" d=\"M665.7583,-256.0638C722.7308,-240.7606 826.0247,-213.0149 886.4694,-196.779\"/>\n",
       "<polygon fill=\"#999999\" stroke=\"#999999\" points=\"887.4008,-200.153 896.1505,-194.1786 885.5849,-193.3926 887.4008,-200.153\"/>\n",
       "<text text-anchor=\"middle\" x=\"813.0442\" y=\"-223\" font-family=\"FangSong\" font-size=\"10.00\" fill=\"#888888\">Low34</text>\n",
       "</g>\n",
       "<!-- Location39 -->\n",
       "<g id=\"node10\" class=\"node\">\n",
       "<title>Location39</title>\n",
       "<path fill=\"none\" stroke=\"#000000\" d=\"M650.5442,-119C650.5442,-119 599.5442,-119 599.5442,-119 593.5442,-119 587.5442,-113 587.5442,-107 587.5442,-107 587.5442,-95 587.5442,-95 587.5442,-89 593.5442,-83 599.5442,-83 599.5442,-83 650.5442,-83 650.5442,-83 656.5442,-83 662.5442,-89 662.5442,-95 662.5442,-95 662.5442,-107 662.5442,-107 662.5442,-113 656.5442,-119 650.5442,-119\"/>\n",
       "<text text-anchor=\"middle\" x=\"625.0442\" y=\"-97.9\" font-family=\"FangSong\" font-size=\"12.00\" fill=\"#000000\">Location39</text>\n",
       "</g>\n",
       "<!-- Occupied41&#45;&gt;Location39 -->\n",
       "<g id=\"edge20\" class=\"edge\">\n",
       "<title>Occupied41&#45;&gt;Location39</title>\n",
       "<path fill=\"none\" stroke=\"#999999\" d=\"M625.0442,-248.9191C625.0442,-220.1059 625.0442,-163.5425 625.0442,-129.321\"/>\n",
       "<polygon fill=\"#999999\" stroke=\"#999999\" points=\"628.5443,-129.0586 625.0442,-119.0586 621.5443,-129.0587 628.5443,-129.0586\"/>\n",
       "<text text-anchor=\"middle\" x=\"641.0442\" y=\"-181.5\" font-family=\"FangSong\" font-size=\"10.00\" fill=\"#888888\">High40</text>\n",
       "</g>\n",
       "<!-- Yes -->\n",
       "<g id=\"node3\" class=\"node\">\n",
       "<title>Yes</title>\n",
       "<path fill=\"none\" stroke=\"#000000\" d=\"M285.0442,-36C285.0442,-36 255.0442,-36 255.0442,-36 249.0442,-36 243.0442,-30 243.0442,-24 243.0442,-24 243.0442,-12 243.0442,-12 243.0442,-6 249.0442,0 255.0442,0 255.0442,0 285.0442,0 285.0442,0 291.0442,0 297.0442,-6 297.0442,-12 297.0442,-12 297.0442,-24 297.0442,-24 297.0442,-30 291.0442,-36 285.0442,-36\"/>\n",
       "<text text-anchor=\"middle\" x=\"270.0442\" y=\"-14.9\" font-family=\"FangSong\" font-size=\"12.00\" fill=\"#000000\">Yes</text>\n",
       "</g>\n",
       "<!-- Location21&#45;&gt;Yes -->\n",
       "<g id=\"edge2\" class=\"edge\">\n",
       "<title>Location21&#45;&gt;Yes</title>\n",
       "<path fill=\"none\" stroke=\"#999999\" d=\"M183.3416,-180.9198C111.1268,-173.4509 -35.8242,-149.7893 8.0442,-83 32.6492,-45.5391 166.7403,-27.7711 232.9799,-21.1807\"/>\n",
       "<polygon fill=\"#999999\" stroke=\"#999999\" points=\"233.3819,-24.6582 243.0012,-20.2176 232.7122,-17.6903 233.3819,-24.6582\"/>\n",
       "<text text-anchor=\"middle\" x=\"37.5442\" y=\"-98.5\" font-family=\"FangSong\" font-size=\"10.00\" fill=\"#888888\">Ein&#45;Karem10</text>\n",
       "</g>\n",
       "<!-- Location21&#45;&gt;Yes -->\n",
       "<g id=\"edge6\" class=\"edge\">\n",
       "<title>Location21&#45;&gt;Yes</title>\n",
       "<path fill=\"none\" stroke=\"#999999\" d=\"M183.1918,-171.0287C139.4926,-153.906 76.7868,-121.3962 103.0442,-83 118.1559,-60.9022 188.4196,-39.1403 232.8548,-27.249\"/>\n",
       "<polygon fill=\"#999999\" stroke=\"#999999\" points=\"233.9479,-30.5807 242.7302,-24.6543 232.169,-23.8104 233.9479,-30.5807\"/>\n",
       "<text text-anchor=\"middle\" x=\"146.0442\" y=\"-98.5\" font-family=\"FangSong\" font-size=\"10.00\" fill=\"#888888\">Mahane&#45;Yehuda15</text>\n",
       "</g>\n",
       "<!-- Location21&#45;&gt;Yes -->\n",
       "<g id=\"edge10\" class=\"edge\">\n",
       "<title>Location21&#45;&gt;Yes</title>\n",
       "<path fill=\"none\" stroke=\"#999999\" d=\"M217.6739,-165.6702C214.612,-145.0803 211.7204,-110.8936 220.0442,-83 224.4013,-68.3991 233.8541,-54.646 243.3804,-43.5837\"/>\n",
       "<polygon fill=\"#999999\" stroke=\"#999999\" points=\"246.1133,-45.7809 250.2582,-36.0305 240.9376,-41.0679 246.1133,-45.7809\"/>\n",
       "<text text-anchor=\"middle\" x=\"251.0442\" y=\"-98.5\" font-family=\"FangSong\" font-size=\"10.00\" fill=\"#888888\">City&#45;Center20</text>\n",
       "</g>\n",
       "<!-- VIP13 -->\n",
       "<g id=\"node4\" class=\"node\">\n",
       "<title>VIP13</title>\n",
       "<path fill=\"none\" stroke=\"#000000\" d=\"M333.0442,-119C333.0442,-119 303.0442,-119 303.0442,-119 297.0442,-119 291.0442,-113 291.0442,-107 291.0442,-107 291.0442,-95 291.0442,-95 291.0442,-89 297.0442,-83 303.0442,-83 303.0442,-83 333.0442,-83 333.0442,-83 339.0442,-83 345.0442,-89 345.0442,-95 345.0442,-95 345.0442,-107 345.0442,-107 345.0442,-113 339.0442,-119 333.0442,-119\"/>\n",
       "<text text-anchor=\"middle\" x=\"318.0442\" y=\"-97.9\" font-family=\"FangSong\" font-size=\"12.00\" fill=\"#000000\">VIP13</text>\n",
       "</g>\n",
       "<!-- Location21&#45;&gt;VIP13 -->\n",
       "<g id=\"edge3\" class=\"edge\">\n",
       "<title>Location21&#45;&gt;VIP13</title>\n",
       "<path fill=\"none\" stroke=\"#999999\" d=\"M238.2606,-165.9721C247.1647,-156.9552 258.3782,-146.0617 269.0442,-137 273.6825,-133.0594 278.717,-129.0677 283.734,-125.2479\"/>\n",
       "<polygon fill=\"#999999\" stroke=\"#999999\" points=\"286.1617,-127.8036 292.0875,-119.0209 281.9782,-122.1913 286.1617,-127.8036\"/>\n",
       "<text text-anchor=\"middle\" x=\"310.0442\" y=\"-140\" font-family=\"FangSong\" font-size=\"10.00\" fill=\"#888888\">German&#45;Colony14</text>\n",
       "</g>\n",
       "<!-- Price18 -->\n",
       "<g id=\"node6\" class=\"node\">\n",
       "<title>Price18</title>\n",
       "<path fill=\"none\" stroke=\"#000000\" d=\"M408.5442,-119C408.5442,-119 375.5442,-119 375.5442,-119 369.5442,-119 363.5442,-113 363.5442,-107 363.5442,-107 363.5442,-95 363.5442,-95 363.5442,-89 369.5442,-83 375.5442,-83 375.5442,-83 408.5442,-83 408.5442,-83 414.5442,-83 420.5442,-89 420.5442,-95 420.5442,-95 420.5442,-107 420.5442,-107 420.5442,-113 414.5442,-119 408.5442,-119\"/>\n",
       "<text text-anchor=\"middle\" x=\"392.0442\" y=\"-97.9\" font-family=\"FangSong\" font-size=\"12.00\" fill=\"#000000\">Price18</text>\n",
       "</g>\n",
       "<!-- Location21&#45;&gt;Price18 -->\n",
       "<g id=\"edge7\" class=\"edge\">\n",
       "<title>Location21&#45;&gt;Price18</title>\n",
       "<path fill=\"none\" stroke=\"#999999\" d=\"M258.68,-179.4805C285.981,-174.8543 322.901,-165.7155 351.0442,-148 359.5235,-142.6625 367.2296,-135.0431 373.6137,-127.4887\"/>\n",
       "<polygon fill=\"#999999\" stroke=\"#999999\" points=\"376.5325,-129.4406 379.9962,-119.4279 371.0445,-125.0952 376.5325,-129.4406\"/>\n",
       "<text text-anchor=\"middle\" x=\"385.0442\" y=\"-140\" font-family=\"FangSong\" font-size=\"10.00\" fill=\"#888888\">Talpiot19</text>\n",
       "</g>\n",
       "<!-- VIP13&#45;&gt;Yes -->\n",
       "<g id=\"edge5\" class=\"edge\">\n",
       "<title>VIP13&#45;&gt;Yes</title>\n",
       "<path fill=\"none\" stroke=\"#999999\" d=\"M290.7013,-89.1979C271.1286,-80.4733 247.7679,-69.38 245.0442,-65 241.0849,-58.6329 242.1455,-51.5813 245.4421,-44.9185\"/>\n",
       "<polygon fill=\"#999999\" stroke=\"#999999\" points=\"248.5994,-46.4794 251.0619,-36.1746 242.7108,-42.6946 248.5994,-46.4794\"/>\n",
       "<text text-anchor=\"middle\" x=\"259.5442\" y=\"-57\" font-family=\"FangSong\" font-size=\"10.00\" fill=\"#888888\">Yes12</text>\n",
       "</g>\n",
       "<!-- No -->\n",
       "<g id=\"node5\" class=\"node\">\n",
       "<title>No</title>\n",
       "<path fill=\"none\" stroke=\"#000000\" d=\"M917.0442,-36C917.0442,-36 887.0442,-36 887.0442,-36 881.0442,-36 875.0442,-30 875.0442,-24 875.0442,-24 875.0442,-12 875.0442,-12 875.0442,-6 881.0442,0 887.0442,0 887.0442,0 917.0442,0 917.0442,0 923.0442,0 929.0442,-6 929.0442,-12 929.0442,-12 929.0442,-24 929.0442,-24 929.0442,-30 923.0442,-36 917.0442,-36\"/>\n",
       "<text text-anchor=\"middle\" x=\"902.0442\" y=\"-14.9\" font-family=\"FangSong\" font-size=\"12.00\" fill=\"#000000\">No</text>\n",
       "</g>\n",
       "<!-- VIP13&#45;&gt;No -->\n",
       "<g id=\"edge4\" class=\"edge\">\n",
       "<title>VIP13&#45;&gt;No</title>\n",
       "<path fill=\"none\" stroke=\"#999999\" d=\"M345.1837,-86.7974C348.4545,-85.3856 351.7895,-84.0787 355.0442,-83 395.8359,-69.4813 409.7657,-79.9784 450.0442,-65 459.1899,-61.599 459.7337,-56.9196 469.0442,-54 542.434,-30.9861 773.6606,-21.7935 864.6937,-19.006\"/>\n",
       "<polygon fill=\"#999999\" stroke=\"#999999\" points=\"864.9375,-22.5004 874.829,-18.7045 864.7293,-15.5035 864.9375,-22.5004\"/>\n",
       "<text text-anchor=\"middle\" x=\"481.0442\" y=\"-57\" font-family=\"FangSong\" font-size=\"10.00\" fill=\"#888888\">No11</text>\n",
       "</g>\n",
       "<!-- Price18&#45;&gt;Yes -->\n",
       "<g id=\"edge9\" class=\"edge\">\n",
       "<title>Price18&#45;&gt;Yes</title>\n",
       "<path fill=\"none\" stroke=\"#999999\" d=\"M363.1771,-86.8275C360.1186,-85.4759 357.034,-84.1738 354.0442,-83 329.3154,-73.291 317.7413,-81.6556 297.0442,-65 290.5492,-59.7732 285.316,-52.5352 281.2491,-45.304\"/>\n",
       "<polygon fill=\"#999999\" stroke=\"#999999\" points=\"284.3385,-43.6568 276.7144,-36.2999 278.0866,-46.8055 284.3385,-43.6568\"/>\n",
       "<text text-anchor=\"middle\" x=\"319.0442\" y=\"-57\" font-family=\"FangSong\" font-size=\"10.00\" fill=\"#888888\">Normal17</text>\n",
       "</g>\n",
       "<!-- Price18&#45;&gt;No -->\n",
       "<g id=\"edge8\" class=\"edge\">\n",
       "<title>Price18&#45;&gt;No</title>\n",
       "<path fill=\"none\" stroke=\"#999999\" d=\"M420.7001,-92.8285C442.1433,-86.3203 471.9675,-76.4263 497.0442,-65 505.9235,-60.9541 506.7485,-56.9664 516.0442,-54 580.3774,-33.4706 781.0254,-23.0059 864.7571,-19.4412\"/>\n",
       "<polygon fill=\"#999999\" stroke=\"#999999\" points=\"864.9935,-22.9345 874.8392,-19.0215 864.7023,-15.9406 864.9935,-22.9345\"/>\n",
       "<text text-anchor=\"middle\" x=\"536.5442\" y=\"-57\" font-family=\"FangSong\" font-size=\"10.00\" fill=\"#888888\">Cheap16</text>\n",
       "</g>\n",
       "<!-- Location33&#45;&gt;No -->\n",
       "<g id=\"edge18\" class=\"edge\">\n",
       "<title>Location33&#45;&gt;No</title>\n",
       "<path fill=\"none\" stroke=\"#999999\" d=\"M937.7565,-165.6231C942.1359,-139.7679 947.1705,-91.6094 933.0442,-54 931.7881,-50.6558 930.0697,-47.4126 928.0813,-44.3321\"/>\n",
       "<polygon fill=\"#999999\" stroke=\"#999999\" points=\"930.7266,-42.0262 921.9225,-36.1323 925.1295,-46.2301 930.7266,-42.0262\"/>\n",
       "<text text-anchor=\"middle\" x=\"963.0442\" y=\"-98.5\" font-family=\"FangSong\" font-size=\"10.00\" fill=\"#888888\">Talpiot31</text>\n",
       "</g>\n",
       "<!-- Location33&#45;&gt;No -->\n",
       "<g id=\"edge19\" class=\"edge\">\n",
       "<title>Location33&#45;&gt;No</title>\n",
       "<path fill=\"none\" stroke=\"#999999\" d=\"M955.2044,-165.9206C976.0038,-145.8388 1002.6619,-112.3715 988.0442,-83 977.5817,-61.9776 956.7168,-45.9482 938.1593,-35.0674\"/>\n",
       "<polygon fill=\"#999999\" stroke=\"#999999\" points=\"939.7316,-31.9371 929.2903,-30.1401 936.3321,-38.0562 939.7316,-31.9371\"/>\n",
       "<text text-anchor=\"middle\" x=\"1035.0442\" y=\"-98.5\" font-family=\"FangSong\" font-size=\"10.00\" fill=\"#888888\">Mahane&#45;Yehuda32</text>\n",
       "</g>\n",
       "<!-- Price25 -->\n",
       "<g id=\"node8\" class=\"node\">\n",
       "<title>Price25</title>\n",
       "<path fill=\"none\" stroke=\"#000000\" d=\"M1161.5442,-119C1161.5442,-119 1128.5442,-119 1128.5442,-119 1122.5442,-119 1116.5442,-113 1116.5442,-107 1116.5442,-107 1116.5442,-95 1116.5442,-95 1116.5442,-89 1122.5442,-83 1128.5442,-83 1128.5442,-83 1161.5442,-83 1161.5442,-83 1167.5442,-83 1173.5442,-89 1173.5442,-95 1173.5442,-95 1173.5442,-107 1173.5442,-107 1173.5442,-113 1167.5442,-119 1161.5442,-119\"/>\n",
       "<text text-anchor=\"middle\" x=\"1145.0442\" y=\"-97.9\" font-family=\"FangSong\" font-size=\"12.00\" fill=\"#000000\">Price25</text>\n",
       "</g>\n",
       "<!-- Location33&#45;&gt;Price25 -->\n",
       "<g id=\"edge12\" class=\"edge\">\n",
       "<title>Location33&#45;&gt;Price25</title>\n",
       "<path fill=\"none\" stroke=\"#999999\" d=\"M971.8583,-169.7071C1005.9838,-156.7283 1057.5138,-136.931 1102.0442,-119 1103.6442,-118.3557 1105.2758,-117.694 1106.9227,-117.0222\"/>\n",
       "<polygon fill=\"#999999\" stroke=\"#999999\" points=\"1108.4946,-120.16 1116.4079,-113.1151 1105.8285,-113.6876 1108.4946,-120.16\"/>\n",
       "<text text-anchor=\"middle\" x=\"1087.0442\" y=\"-140\" font-family=\"FangSong\" font-size=\"10.00\" fill=\"#888888\">City&#45;Center26</text>\n",
       "</g>\n",
       "<!-- Price29 -->\n",
       "<g id=\"node9\" class=\"node\">\n",
       "<title>Price29</title>\n",
       "<path fill=\"none\" stroke=\"#000000\" d=\"M876.5442,-119C876.5442,-119 843.5442,-119 843.5442,-119 837.5442,-119 831.5442,-113 831.5442,-107 831.5442,-107 831.5442,-95 831.5442,-95 831.5442,-89 837.5442,-83 843.5442,-83 843.5442,-83 876.5442,-83 876.5442,-83 882.5442,-83 888.5442,-89 888.5442,-95 888.5442,-95 888.5442,-107 888.5442,-107 888.5442,-113 882.5442,-119 876.5442,-119\"/>\n",
       "<text text-anchor=\"middle\" x=\"860.0442\" y=\"-97.9\" font-family=\"FangSong\" font-size=\"12.00\" fill=\"#000000\">Price29</text>\n",
       "</g>\n",
       "<!-- Location33&#45;&gt;Price29 -->\n",
       "<g id=\"edge15\" class=\"edge\">\n",
       "<title>Location33&#45;&gt;Price29</title>\n",
       "<path fill=\"none\" stroke=\"#999999\" d=\"M896.5124,-174.4189C882.9872,-168.979 869.0888,-160.6352 861.0442,-148 857.5348,-142.488 856.1227,-135.8267 855.8393,-129.2741\"/>\n",
       "<polygon fill=\"#999999\" stroke=\"#999999\" points=\"859.3382,-129.3616 856.1838,-119.2473 852.3424,-129.1212 859.3382,-129.3616\"/>\n",
       "<text text-anchor=\"middle\" x=\"890.5442\" y=\"-140\" font-family=\"FangSong\" font-size=\"10.00\" fill=\"#888888\">Ein&#45;Karem30</text>\n",
       "</g>\n",
       "<!-- Price25&#45;&gt;No -->\n",
       "<g id=\"edge13\" class=\"edge\">\n",
       "<title>Price25&#45;&gt;No</title>\n",
       "<path fill=\"none\" stroke=\"#999999\" d=\"M1116.4154,-88.8663C1111.6274,-86.88 1106.703,-84.8634 1102.0442,-83 1068.4764,-69.5738 1060.3217,-65.4941 1026.0442,-54 997.0903,-44.2911 963.8373,-34.7208 939.0599,-27.8909\"/>\n",
       "<polygon fill=\"#999999\" stroke=\"#999999\" points=\"939.9038,-24.4932 929.3347,-25.2308 938.0569,-31.2452 939.9038,-24.4932\"/>\n",
       "<text text-anchor=\"middle\" x=\"1078.0442\" y=\"-57\" font-family=\"FangSong\" font-size=\"10.00\" fill=\"#888888\">Normal23</text>\n",
       "</g>\n",
       "<!-- Price25&#45;&gt;No -->\n",
       "<g id=\"edge14\" class=\"edge\">\n",
       "<title>Price25&#45;&gt;No</title>\n",
       "<path fill=\"none\" stroke=\"#999999\" d=\"M1133.5913,-82.6192C1126.357,-72.5756 1116.107,-60.8256 1104.0442,-54 1076.4749,-38.4003 989.7179,-27.1004 939.3177,-21.6551\"/>\n",
       "<polygon fill=\"#999999\" stroke=\"#999999\" points=\"939.4611,-18.1509 929.1491,-20.5826 938.7267,-25.1123 939.4611,-18.1509\"/>\n",
       "<text text-anchor=\"middle\" x=\"1137.5442\" y=\"-57\" font-family=\"FangSong\" font-size=\"10.00\" fill=\"#888888\">Cheap24</text>\n",
       "</g>\n",
       "<!-- Price29&#45;&gt;Yes -->\n",
       "<g id=\"edge16\" class=\"edge\">\n",
       "<title>Price29&#45;&gt;Yes</title>\n",
       "<path fill=\"none\" stroke=\"#999999\" d=\"M831.2136,-90.6816C813.3248,-83.9829 790.0209,-74.7152 770.0442,-65 761.2693,-60.7325 760.3667,-56.8812 751.0442,-54 668.2539,-28.4126 404.9598,-20.6683 307.1215,-18.6402\"/>\n",
       "<polygon fill=\"#999999\" stroke=\"#999999\" points=\"307.1701,-15.1406 297.1023,-18.4407 307.0306,-22.1392 307.1701,-15.1406\"/>\n",
       "<text text-anchor=\"middle\" x=\"790.5442\" y=\"-57\" font-family=\"FangSong\" font-size=\"10.00\" fill=\"#888888\">Cheap27</text>\n",
       "</g>\n",
       "<!-- Price29&#45;&gt;No -->\n",
       "<g id=\"edge17\" class=\"edge\">\n",
       "<title>Price29&#45;&gt;No</title>\n",
       "<path fill=\"none\" stroke=\"#999999\" d=\"M870.4664,-82.8179C873.626,-77.154 877.0509,-70.8572 880.0442,-65 883.1652,-58.8929 886.3754,-52.2619 889.3458,-45.9585\"/>\n",
       "<polygon fill=\"#999999\" stroke=\"#999999\" points=\"892.7266,-46.9889 893.7689,-36.4454 886.3791,-44.0376 892.7266,-46.9889\"/>\n",
       "<text text-anchor=\"middle\" x=\"907.0442\" y=\"-57\" font-family=\"FangSong\" font-size=\"10.00\" fill=\"#888888\">Normal28</text>\n",
       "</g>\n",
       "<!-- Location39&#45;&gt;Yes -->\n",
       "<g id=\"edge21\" class=\"edge\">\n",
       "<title>Location39&#45;&gt;Yes</title>\n",
       "<path fill=\"none\" stroke=\"#999999\" d=\"M605.8975,-82.8605C593.9421,-72.6349 577.6984,-60.6182 561.0442,-54 515.6901,-35.9766 375.0276,-24.7564 307.2705,-20.2592\"/>\n",
       "<polygon fill=\"#999999\" stroke=\"#999999\" points=\"307.2536,-16.7508 297.0477,-19.5951 306.7998,-23.7361 307.2536,-16.7508\"/>\n",
       "<text text-anchor=\"middle\" x=\"611.0442\" y=\"-57\" font-family=\"FangSong\" font-size=\"10.00\" fill=\"#888888\">City&#45;Center35</text>\n",
       "</g>\n",
       "<!-- Location39&#45;&gt;Yes -->\n",
       "<g id=\"edge24\" class=\"edge\">\n",
       "<title>Location39&#45;&gt;Yes</title>\n",
       "<path fill=\"none\" stroke=\"#999999\" d=\"M587.4776,-99.6515C536.0078,-96.9479 441.1636,-88.886 364.0442,-65 360.9009,-64.0264 331.4422,-49.221 306.3293,-36.4842\"/>\n",
       "<polygon fill=\"#999999\" stroke=\"#999999\" points=\"307.8315,-33.3217 297.3305,-31.9148 304.6622,-39.5632 307.8315,-33.3217\"/>\n",
       "<text text-anchor=\"middle\" x=\"407.0442\" y=\"-57\" font-family=\"FangSong\" font-size=\"10.00\" fill=\"#888888\">Mahane&#45;Yehuda38</text>\n",
       "</g>\n",
       "<!-- Location39&#45;&gt;No -->\n",
       "<g id=\"edge22\" class=\"edge\">\n",
       "<title>Location39&#45;&gt;No</title>\n",
       "<path fill=\"none\" stroke=\"#999999\" d=\"M662.8258,-97.6307C701.9077,-93.2799 764.224,-83.8986 815.0442,-65 824.1899,-61.599 825.5087,-58.728 834.0442,-54 844.243,-48.3507 855.3919,-42.3688 865.6574,-36.9379\"/>\n",
       "<polygon fill=\"#999999\" stroke=\"#999999\" points=\"867.5675,-39.8877 874.784,-32.1305 864.3052,-33.6943 867.5675,-39.8877\"/>\n",
       "<text text-anchor=\"middle\" x=\"855.0442\" y=\"-57\" font-family=\"FangSong\" font-size=\"10.00\" fill=\"#888888\">Talpiot36</text>\n",
       "</g>\n",
       "<!-- Location39&#45;&gt;No -->\n",
       "<g id=\"edge23\" class=\"edge\">\n",
       "<title>Location39&#45;&gt;No</title>\n",
       "<path fill=\"none\" stroke=\"#999999\" d=\"M637.1905,-82.9816C645.0493,-72.7989 656.195,-60.7849 669.0442,-54 702.2668,-36.4573 807.6542,-25.5622 864.626,-20.8016\"/>\n",
       "<polygon fill=\"#999999\" stroke=\"#999999\" points=\"864.9891,-24.2837 874.6721,-19.9838 864.4211,-17.3068 864.9891,-24.2837\"/>\n",
       "<text text-anchor=\"middle\" x=\"710.0442\" y=\"-57\" font-family=\"FangSong\" font-size=\"10.00\" fill=\"#888888\">German&#45;Colony37</text>\n",
       "</g>\n",
       "</g>\n",
       "</svg>\n"
      ],
      "text/plain": [
       "<graphviz.dot.Digraph at 0x119dc2c50>"
      ]
     },
     "execution_count": 21,
     "metadata": {},
     "output_type": "execute_result"
    }
   ],
   "source": [
    "draw_tree(decision_tree)"
   ]
  },
  {
   "cell_type": "markdown",
   "metadata": {},
   "source": [
    "Until here, the decision tree is implemented and printed. And the prediction result is 'Yes'.\n",
    "\n",
    "First, we used ‘pandas’ package in Python to store the training data and cleaned it to the format as 'df' above. Then, we created functions to calculate Entropy and Information Gain. The most difficult part is constructing the tree. We tried many ways including while loops and global variables, but the only way could implement the algorithm well was recursion (which I found on my notebook later, should review lecture notes first). And the recursion was pretty complex. There were so many factors need to consider.\n",
    "\n",
    "One code level optimization was also in ‘create_tree’ function. At first, we dropped the best column that had been used to avoid repetition, which created countless tables and made the code very complex. However, we found out later that there was no need to drop the used best column. Once the columns are used and divided into several categories, the information gain for this column at a specific category would be zero and would not influence further construction. Thus, we changed our code and now the ‘create_tree’ function only had 12 lines.\n",
    "\n",
    "We chose a dictionary data structure in Python to store the decision tree since the dictionary had the concept of keys and values, which accorded with the decision tree's nodes and subtrees.\n",
    "\n",
    "For the drawing part, because the package we used would merge all nodes with the same name. We had to number all the nodes in the decision tree. And for lack of enough programming skills, we cannot think out better methods and cannot split the nodes of the final result, but that does not influence the accuracy of the decision tree. There is also a dictionary format decision tree printed above."
   ]
  },
  {
   "cell_type": "markdown",
   "metadata": {},
   "source": [
    "## Part 2:Software Familiarization"
   ]
  },
  {
   "cell_type": "markdown",
   "metadata": {},
   "source": [
    "Below is library function DecisionTreeClassifier."
   ]
  },
  {
   "cell_type": "code",
   "execution_count": 22,
   "metadata": {},
   "outputs": [],
   "source": [
    "# Load libraries\n",
    "from sklearn.tree import DecisionTreeClassifier\n",
    "from sklearn import datasets\n",
    "from IPython.display import Image  \n",
    "from sklearn import tree\n",
    "import pydotplus"
   ]
  },
  {
   "cell_type": "code",
   "execution_count": 23,
   "metadata": {},
   "outputs": [
    {
     "name": "stderr",
     "output_type": "stream",
     "text": [
      "/opt/anaconda3/lib/python3.7/site-packages/ipykernel_launcher.py:2: ParserWarning: Falling back to the 'python' engine because the 'c' engine does not support regex separators (separators > 1 char and different from '\\s+' are interpreted as regex); you can avoid this warning by specifying engine='python'.\n",
      "  \n"
     ]
    }
   ],
   "source": [
    "txt_file = r\"dt_data.txt\"\n",
    "df = pd.read_table(txt_file, skiprows = 0, sep = ', ', header = 0)"
   ]
  },
  {
   "cell_type": "code",
   "execution_count": 24,
   "metadata": {},
   "outputs": [],
   "source": [
    "df = df.rename(columns={'(Occupied': 'Occupied'})\n",
    "df = df.rename(columns={'Enjoy)': 'Enjoy'})\n",
    "df.Enjoy = df.Enjoy.str.replace(';', '')\n",
    "df.Occupied = df.Occupied.str.replace(r'^(\\d*)[:]*[\\s]*','')"
   ]
  },
  {
   "cell_type": "code",
   "execution_count": 25,
   "metadata": {},
   "outputs": [
    {
     "name": "stdout",
     "output_type": "stream",
     "text": [
      "Index(['No', 'Yes'], dtype='object')\n"
     ]
    }
   ],
   "source": [
    "df['Enjoy'],class_names = pd.factorize(df['Enjoy'])\n",
    "print(class_names)"
   ]
  },
  {
   "cell_type": "code",
   "execution_count": 26,
   "metadata": {},
   "outputs": [
    {
     "data": {
      "text/html": [
       "<div>\n",
       "<style scoped>\n",
       "    .dataframe tbody tr th:only-of-type {\n",
       "        vertical-align: middle;\n",
       "    }\n",
       "\n",
       "    .dataframe tbody tr th {\n",
       "        vertical-align: top;\n",
       "    }\n",
       "\n",
       "    .dataframe thead th {\n",
       "        text-align: right;\n",
       "    }\n",
       "</style>\n",
       "<table border=\"1\" class=\"dataframe\">\n",
       "  <thead>\n",
       "    <tr style=\"text-align: right;\">\n",
       "      <th></th>\n",
       "      <th>Occupied</th>\n",
       "      <th>Price</th>\n",
       "      <th>Music</th>\n",
       "      <th>Location</th>\n",
       "      <th>VIP</th>\n",
       "      <th>Favorite Beer</th>\n",
       "      <th>Enjoy</th>\n",
       "    </tr>\n",
       "  </thead>\n",
       "  <tbody>\n",
       "    <tr>\n",
       "      <td>0</td>\n",
       "      <td>0</td>\n",
       "      <td>0</td>\n",
       "      <td>0</td>\n",
       "      <td>0</td>\n",
       "      <td>0</td>\n",
       "      <td>0</td>\n",
       "      <td>0</td>\n",
       "    </tr>\n",
       "    <tr>\n",
       "      <td>1</td>\n",
       "      <td>0</td>\n",
       "      <td>0</td>\n",
       "      <td>0</td>\n",
       "      <td>1</td>\n",
       "      <td>1</td>\n",
       "      <td>0</td>\n",
       "      <td>1</td>\n",
       "    </tr>\n",
       "    <tr>\n",
       "      <td>2</td>\n",
       "      <td>1</td>\n",
       "      <td>1</td>\n",
       "      <td>1</td>\n",
       "      <td>1</td>\n",
       "      <td>0</td>\n",
       "      <td>1</td>\n",
       "      <td>1</td>\n",
       "    </tr>\n",
       "    <tr>\n",
       "      <td>3</td>\n",
       "      <td>1</td>\n",
       "      <td>0</td>\n",
       "      <td>1</td>\n",
       "      <td>2</td>\n",
       "      <td>0</td>\n",
       "      <td>0</td>\n",
       "      <td>0</td>\n",
       "    </tr>\n",
       "    <tr>\n",
       "      <td>4</td>\n",
       "      <td>1</td>\n",
       "      <td>0</td>\n",
       "      <td>1</td>\n",
       "      <td>2</td>\n",
       "      <td>1</td>\n",
       "      <td>1</td>\n",
       "      <td>1</td>\n",
       "    </tr>\n",
       "  </tbody>\n",
       "</table>\n",
       "</div>"
      ],
      "text/plain": [
       "   Occupied  Price  Music  Location  VIP  Favorite Beer  Enjoy\n",
       "0         0      0      0         0    0              0      0\n",
       "1         0      0      0         1    1              0      1\n",
       "2         1      1      1         1    0              1      1\n",
       "3         1      0      1         2    0              0      0\n",
       "4         1      0      1         2    1              1      1"
      ]
     },
     "execution_count": 26,
     "metadata": {},
     "output_type": "execute_result"
    }
   ],
   "source": [
    "df['Occupied'],_ = pd.factorize(df['Occupied'])\n",
    "df['Price'],_ = pd.factorize(df['Price'])\n",
    "df['Music'],_ = pd.factorize(df['Music'])\n",
    "df['Location'],_ = pd.factorize(df['Location'])\n",
    "df['VIP'],_ = pd.factorize(df['VIP'])\n",
    "df['Favorite Beer'],_ = pd.factorize(df['Favorite Beer'])\n",
    "df.head()"
   ]
  },
  {
   "cell_type": "code",
   "execution_count": 27,
   "metadata": {},
   "outputs": [],
   "source": [
    "# Load data\n",
    "X = df.drop('Enjoy', axis=1)\n",
    "y = df['Enjoy']"
   ]
  },
  {
   "cell_type": "code",
   "execution_count": 28,
   "metadata": {},
   "outputs": [],
   "source": [
    "# Create decision tree classifer object\n",
    "clf = DecisionTreeClassifier(criterion = 'entropy')\n",
    "\n",
    "# Train model\n",
    "dtmodel = clf.fit(X, y)"
   ]
  },
  {
   "cell_type": "code",
   "execution_count": 29,
   "metadata": {},
   "outputs": [],
   "source": [
    "#Load Test Data\n",
    "test_data = {'Occupied':1, 'Price' : 2, 'Music' : 0, 'Location' : 1, 'VIP' : 1, 'Favorite Beer' : 1}\n",
    "test_df = pd.DataFrame(test_data,index=[0]) "
   ]
  },
  {
   "cell_type": "code",
   "execution_count": 30,
   "metadata": {},
   "outputs": [
    {
     "data": {
      "text/plain": [
       "array([1])"
      ]
     },
     "execution_count": 30,
     "metadata": {},
     "output_type": "execute_result"
    }
   ],
   "source": [
    "dtmodel.predict(test_df)\n",
    "#[0:NO,1:YES]"
   ]
  },
  {
   "cell_type": "code",
   "execution_count": 31,
   "metadata": {},
   "outputs": [
    {
     "data": {
      "image/svg+xml": [
       "<?xml version=\"1.0\" encoding=\"UTF-8\" standalone=\"no\"?>\n",
       "<!DOCTYPE svg PUBLIC \"-//W3C//DTD SVG 1.1//EN\"\n",
       " \"http://www.w3.org/Graphics/SVG/1.1/DTD/svg11.dtd\">\n",
       "<!-- Generated by graphviz version 2.40.1 (20161225.0304)\n",
       " -->\n",
       "<!-- Title: Tree Pages: 1 -->\n",
       "<svg width=\"722pt\" height=\"909pt\"\n",
       " viewBox=\"0.00 0.00 722.00 909.00\" xmlns=\"http://www.w3.org/2000/svg\" xmlns:xlink=\"http://www.w3.org/1999/xlink\">\n",
       "<g id=\"graph0\" class=\"graph\" transform=\"scale(1 1) rotate(0) translate(4 905)\">\n",
       "<title>Tree</title>\n",
       "<polygon fill=\"#ffffff\" stroke=\"transparent\" points=\"-4,4 -4,-905 718,-905 718,4 -4,4\"/>\n",
       "<!-- 0 -->\n",
       "<g id=\"node1\" class=\"node\">\n",
       "<title>0</title>\n",
       "<path fill=\"#c2e1f7\" stroke=\"#000000\" d=\"M467,-901C467,-901 372,-901 372,-901 366,-901 360,-895 360,-889 360,-889 360,-830 360,-830 360,-824 366,-818 372,-818 372,-818 467,-818 467,-818 473,-818 479,-824 479,-830 479,-830 479,-889 479,-889 479,-895 473,-901 467,-901\"/>\n",
       "<text text-anchor=\"middle\" x=\"419.5\" y=\"-885.8\" font-family=\"Helvetica,sans-Serif\" font-size=\"14.00\" fill=\"#000000\">Occupied &lt;= 1.5</text>\n",
       "<text text-anchor=\"middle\" x=\"419.5\" y=\"-870.8\" font-family=\"Helvetica,sans-Serif\" font-size=\"14.00\" fill=\"#000000\">entropy = 0.976</text>\n",
       "<text text-anchor=\"middle\" x=\"419.5\" y=\"-855.8\" font-family=\"Helvetica,sans-Serif\" font-size=\"14.00\" fill=\"#000000\">samples = 22</text>\n",
       "<text text-anchor=\"middle\" x=\"419.5\" y=\"-840.8\" font-family=\"Helvetica,sans-Serif\" font-size=\"14.00\" fill=\"#000000\">value = [9, 13]</text>\n",
       "<text text-anchor=\"middle\" x=\"419.5\" y=\"-825.8\" font-family=\"Helvetica,sans-Serif\" font-size=\"14.00\" fill=\"#000000\">class = Yes</text>\n",
       "</g>\n",
       "<!-- 1 -->\n",
       "<g id=\"node2\" class=\"node\">\n",
       "<title>1</title>\n",
       "<path fill=\"#81c1ee\" stroke=\"#000000\" d=\"M398.5,-782C398.5,-782 308.5,-782 308.5,-782 302.5,-782 296.5,-776 296.5,-770 296.5,-770 296.5,-711 296.5,-711 296.5,-705 302.5,-699 308.5,-699 308.5,-699 398.5,-699 398.5,-699 404.5,-699 410.5,-705 410.5,-711 410.5,-711 410.5,-770 410.5,-770 410.5,-776 404.5,-782 398.5,-782\"/>\n",
       "<text text-anchor=\"middle\" x=\"353.5\" y=\"-766.8\" font-family=\"Helvetica,sans-Serif\" font-size=\"14.00\" fill=\"#000000\">Location &lt;= 2.5</text>\n",
       "<text text-anchor=\"middle\" x=\"353.5\" y=\"-751.8\" font-family=\"Helvetica,sans-Serif\" font-size=\"14.00\" fill=\"#000000\">entropy = 0.837</text>\n",
       "<text text-anchor=\"middle\" x=\"353.5\" y=\"-736.8\" font-family=\"Helvetica,sans-Serif\" font-size=\"14.00\" fill=\"#000000\">samples = 15</text>\n",
       "<text text-anchor=\"middle\" x=\"353.5\" y=\"-721.8\" font-family=\"Helvetica,sans-Serif\" font-size=\"14.00\" fill=\"#000000\">value = [4, 11]</text>\n",
       "<text text-anchor=\"middle\" x=\"353.5\" y=\"-706.8\" font-family=\"Helvetica,sans-Serif\" font-size=\"14.00\" fill=\"#000000\">class = Yes</text>\n",
       "</g>\n",
       "<!-- 0&#45;&gt;1 -->\n",
       "<g id=\"edge1\" class=\"edge\">\n",
       "<title>0&#45;&gt;1</title>\n",
       "<path fill=\"none\" stroke=\"#000000\" d=\"M396.4164,-817.8796C391.6211,-809.2335 386.5178,-800.0322 381.5662,-791.1042\"/>\n",
       "<polygon fill=\"#000000\" stroke=\"#000000\" points=\"384.5931,-789.3455 376.6821,-782.2981 378.4716,-792.7407 384.5931,-789.3455\"/>\n",
       "<text text-anchor=\"middle\" x=\"369.7969\" y=\"-802.6313\" font-family=\"Helvetica,sans-Serif\" font-size=\"14.00\" fill=\"#000000\">True</text>\n",
       "</g>\n",
       "<!-- 14 -->\n",
       "<g id=\"node15\" class=\"node\">\n",
       "<title>14</title>\n",
       "<path fill=\"#efb388\" stroke=\"#000000\" d=\"M530.5,-782C530.5,-782 440.5,-782 440.5,-782 434.5,-782 428.5,-776 428.5,-770 428.5,-770 428.5,-711 428.5,-711 428.5,-705 434.5,-699 440.5,-699 440.5,-699 530.5,-699 530.5,-699 536.5,-699 542.5,-705 542.5,-711 542.5,-711 542.5,-770 542.5,-770 542.5,-776 536.5,-782 530.5,-782\"/>\n",
       "<text text-anchor=\"middle\" x=\"485.5\" y=\"-766.8\" font-family=\"Helvetica,sans-Serif\" font-size=\"14.00\" fill=\"#000000\">Location &lt;= 0.5</text>\n",
       "<text text-anchor=\"middle\" x=\"485.5\" y=\"-751.8\" font-family=\"Helvetica,sans-Serif\" font-size=\"14.00\" fill=\"#000000\">entropy = 0.863</text>\n",
       "<text text-anchor=\"middle\" x=\"485.5\" y=\"-736.8\" font-family=\"Helvetica,sans-Serif\" font-size=\"14.00\" fill=\"#000000\">samples = 7</text>\n",
       "<text text-anchor=\"middle\" x=\"485.5\" y=\"-721.8\" font-family=\"Helvetica,sans-Serif\" font-size=\"14.00\" fill=\"#000000\">value = [5, 2]</text>\n",
       "<text text-anchor=\"middle\" x=\"485.5\" y=\"-706.8\" font-family=\"Helvetica,sans-Serif\" font-size=\"14.00\" fill=\"#000000\">class = No</text>\n",
       "</g>\n",
       "<!-- 0&#45;&gt;14 -->\n",
       "<g id=\"edge14\" class=\"edge\">\n",
       "<title>0&#45;&gt;14</title>\n",
       "<path fill=\"none\" stroke=\"#000000\" d=\"M442.5836,-817.8796C447.3789,-809.2335 452.4822,-800.0322 457.4338,-791.1042\"/>\n",
       "<polygon fill=\"#000000\" stroke=\"#000000\" points=\"460.5284,-792.7407 462.3179,-782.2981 454.4069,-789.3455 460.5284,-792.7407\"/>\n",
       "<text text-anchor=\"middle\" x=\"469.2031\" y=\"-802.6313\" font-family=\"Helvetica,sans-Serif\" font-size=\"14.00\" fill=\"#000000\">False</text>\n",
       "</g>\n",
       "<!-- 2 -->\n",
       "<g id=\"node3\" class=\"node\">\n",
       "<title>2</title>\n",
       "<path fill=\"#bddef6\" stroke=\"#000000\" d=\"M280.5,-663C280.5,-663 190.5,-663 190.5,-663 184.5,-663 178.5,-657 178.5,-651 178.5,-651 178.5,-592 178.5,-592 178.5,-586 184.5,-580 190.5,-580 190.5,-580 280.5,-580 280.5,-580 286.5,-580 292.5,-586 292.5,-592 292.5,-592 292.5,-651 292.5,-651 292.5,-657 286.5,-663 280.5,-663\"/>\n",
       "<text text-anchor=\"middle\" x=\"235.5\" y=\"-647.8\" font-family=\"Helvetica,sans-Serif\" font-size=\"14.00\" fill=\"#000000\">VIP &lt;= 0.5</text>\n",
       "<text text-anchor=\"middle\" x=\"235.5\" y=\"-632.8\" font-family=\"Helvetica,sans-Serif\" font-size=\"14.00\" fill=\"#000000\">entropy = 0.971</text>\n",
       "<text text-anchor=\"middle\" x=\"235.5\" y=\"-617.8\" font-family=\"Helvetica,sans-Serif\" font-size=\"14.00\" fill=\"#000000\">samples = 10</text>\n",
       "<text text-anchor=\"middle\" x=\"235.5\" y=\"-602.8\" font-family=\"Helvetica,sans-Serif\" font-size=\"14.00\" fill=\"#000000\">value = [4, 6]</text>\n",
       "<text text-anchor=\"middle\" x=\"235.5\" y=\"-587.8\" font-family=\"Helvetica,sans-Serif\" font-size=\"14.00\" fill=\"#000000\">class = Yes</text>\n",
       "</g>\n",
       "<!-- 1&#45;&gt;2 -->\n",
       "<g id=\"edge2\" class=\"edge\">\n",
       "<title>1&#45;&gt;2</title>\n",
       "<path fill=\"none\" stroke=\"#000000\" d=\"M312.2293,-698.8796C303.1201,-689.6931 293.3892,-679.8798 284.0224,-670.4336\"/>\n",
       "<polygon fill=\"#000000\" stroke=\"#000000\" points=\"286.4733,-667.9345 276.9468,-663.2981 281.5027,-672.8634 286.4733,-667.9345\"/>\n",
       "</g>\n",
       "<!-- 13 -->\n",
       "<g id=\"node14\" class=\"node\">\n",
       "<title>13</title>\n",
       "<path fill=\"#399de5\" stroke=\"#000000\" d=\"M398,-655.5C398,-655.5 323,-655.5 323,-655.5 317,-655.5 311,-649.5 311,-643.5 311,-643.5 311,-599.5 311,-599.5 311,-593.5 317,-587.5 323,-587.5 323,-587.5 398,-587.5 398,-587.5 404,-587.5 410,-593.5 410,-599.5 410,-599.5 410,-643.5 410,-643.5 410,-649.5 404,-655.5 398,-655.5\"/>\n",
       "<text text-anchor=\"middle\" x=\"360.5\" y=\"-640.3\" font-family=\"Helvetica,sans-Serif\" font-size=\"14.00\" fill=\"#000000\">entropy = 0.0</text>\n",
       "<text text-anchor=\"middle\" x=\"360.5\" y=\"-625.3\" font-family=\"Helvetica,sans-Serif\" font-size=\"14.00\" fill=\"#000000\">samples = 5</text>\n",
       "<text text-anchor=\"middle\" x=\"360.5\" y=\"-610.3\" font-family=\"Helvetica,sans-Serif\" font-size=\"14.00\" fill=\"#000000\">value = [0, 5]</text>\n",
       "<text text-anchor=\"middle\" x=\"360.5\" y=\"-595.3\" font-family=\"Helvetica,sans-Serif\" font-size=\"14.00\" fill=\"#000000\">class = Yes</text>\n",
       "</g>\n",
       "<!-- 1&#45;&gt;13 -->\n",
       "<g id=\"edge13\" class=\"edge\">\n",
       "<title>1&#45;&gt;13</title>\n",
       "<path fill=\"none\" stroke=\"#000000\" d=\"M355.9483,-698.8796C356.5757,-688.2134 357.2528,-676.7021 357.8881,-665.9015\"/>\n",
       "<polygon fill=\"#000000\" stroke=\"#000000\" points=\"361.3881,-666.0032 358.4815,-655.8149 354.4002,-665.5921 361.3881,-666.0032\"/>\n",
       "</g>\n",
       "<!-- 3 -->\n",
       "<g id=\"node4\" class=\"node\">\n",
       "<title>3</title>\n",
       "<path fill=\"#f8e0ce\" stroke=\"#000000\" d=\"M276.5,-544C276.5,-544 186.5,-544 186.5,-544 180.5,-544 174.5,-538 174.5,-532 174.5,-532 174.5,-473 174.5,-473 174.5,-467 180.5,-461 186.5,-461 186.5,-461 276.5,-461 276.5,-461 282.5,-461 288.5,-467 288.5,-473 288.5,-473 288.5,-532 288.5,-532 288.5,-538 282.5,-544 276.5,-544\"/>\n",
       "<text text-anchor=\"middle\" x=\"231.5\" y=\"-528.8\" font-family=\"Helvetica,sans-Serif\" font-size=\"14.00\" fill=\"#000000\">Price &lt;= 0.5</text>\n",
       "<text text-anchor=\"middle\" x=\"231.5\" y=\"-513.8\" font-family=\"Helvetica,sans-Serif\" font-size=\"14.00\" fill=\"#000000\">entropy = 0.985</text>\n",
       "<text text-anchor=\"middle\" x=\"231.5\" y=\"-498.8\" font-family=\"Helvetica,sans-Serif\" font-size=\"14.00\" fill=\"#000000\">samples = 7</text>\n",
       "<text text-anchor=\"middle\" x=\"231.5\" y=\"-483.8\" font-family=\"Helvetica,sans-Serif\" font-size=\"14.00\" fill=\"#000000\">value = [4, 3]</text>\n",
       "<text text-anchor=\"middle\" x=\"231.5\" y=\"-468.8\" font-family=\"Helvetica,sans-Serif\" font-size=\"14.00\" fill=\"#000000\">class = No</text>\n",
       "</g>\n",
       "<!-- 2&#45;&gt;3 -->\n",
       "<g id=\"edge3\" class=\"edge\">\n",
       "<title>2&#45;&gt;3</title>\n",
       "<path fill=\"none\" stroke=\"#000000\" d=\"M234.101,-579.8796C233.8255,-571.6838 233.5332,-562.9891 233.2479,-554.5013\"/>\n",
       "<polygon fill=\"#000000\" stroke=\"#000000\" points=\"236.739,-554.1748 232.905,-544.2981 229.743,-554.41 236.739,-554.1748\"/>\n",
       "</g>\n",
       "<!-- 12 -->\n",
       "<g id=\"node13\" class=\"node\">\n",
       "<title>12</title>\n",
       "<path fill=\"#399de5\" stroke=\"#000000\" d=\"M394,-536.5C394,-536.5 319,-536.5 319,-536.5 313,-536.5 307,-530.5 307,-524.5 307,-524.5 307,-480.5 307,-480.5 307,-474.5 313,-468.5 319,-468.5 319,-468.5 394,-468.5 394,-468.5 400,-468.5 406,-474.5 406,-480.5 406,-480.5 406,-524.5 406,-524.5 406,-530.5 400,-536.5 394,-536.5\"/>\n",
       "<text text-anchor=\"middle\" x=\"356.5\" y=\"-521.3\" font-family=\"Helvetica,sans-Serif\" font-size=\"14.00\" fill=\"#000000\">entropy = 0.0</text>\n",
       "<text text-anchor=\"middle\" x=\"356.5\" y=\"-506.3\" font-family=\"Helvetica,sans-Serif\" font-size=\"14.00\" fill=\"#000000\">samples = 3</text>\n",
       "<text text-anchor=\"middle\" x=\"356.5\" y=\"-491.3\" font-family=\"Helvetica,sans-Serif\" font-size=\"14.00\" fill=\"#000000\">value = [0, 3]</text>\n",
       "<text text-anchor=\"middle\" x=\"356.5\" y=\"-476.3\" font-family=\"Helvetica,sans-Serif\" font-size=\"14.00\" fill=\"#000000\">class = Yes</text>\n",
       "</g>\n",
       "<!-- 2&#45;&gt;12 -->\n",
       "<g id=\"edge12\" class=\"edge\">\n",
       "<title>2&#45;&gt;12</title>\n",
       "<path fill=\"none\" stroke=\"#000000\" d=\"M277.8199,-579.8796C289.6717,-568.2237 302.5495,-555.5587 314.3891,-543.9148\"/>\n",
       "<polygon fill=\"#000000\" stroke=\"#000000\" points=\"316.9327,-546.3223 321.6083,-536.8149 312.0244,-541.3314 316.9327,-546.3223\"/>\n",
       "</g>\n",
       "<!-- 4 -->\n",
       "<g id=\"node5\" class=\"node\">\n",
       "<title>4</title>\n",
       "<path fill=\"#e58139\" stroke=\"#000000\" d=\"M168,-417.5C168,-417.5 93,-417.5 93,-417.5 87,-417.5 81,-411.5 81,-405.5 81,-405.5 81,-361.5 81,-361.5 81,-355.5 87,-349.5 93,-349.5 93,-349.5 168,-349.5 168,-349.5 174,-349.5 180,-355.5 180,-361.5 180,-361.5 180,-405.5 180,-405.5 180,-411.5 174,-417.5 168,-417.5\"/>\n",
       "<text text-anchor=\"middle\" x=\"130.5\" y=\"-402.3\" font-family=\"Helvetica,sans-Serif\" font-size=\"14.00\" fill=\"#000000\">entropy = 0.0</text>\n",
       "<text text-anchor=\"middle\" x=\"130.5\" y=\"-387.3\" font-family=\"Helvetica,sans-Serif\" font-size=\"14.00\" fill=\"#000000\">samples = 2</text>\n",
       "<text text-anchor=\"middle\" x=\"130.5\" y=\"-372.3\" font-family=\"Helvetica,sans-Serif\" font-size=\"14.00\" fill=\"#000000\">value = [2, 0]</text>\n",
       "<text text-anchor=\"middle\" x=\"130.5\" y=\"-357.3\" font-family=\"Helvetica,sans-Serif\" font-size=\"14.00\" fill=\"#000000\">class = No</text>\n",
       "</g>\n",
       "<!-- 3&#45;&gt;4 -->\n",
       "<g id=\"edge4\" class=\"edge\">\n",
       "<title>3&#45;&gt;4</title>\n",
       "<path fill=\"none\" stroke=\"#000000\" d=\"M196.1751,-460.8796C186.469,-449.4436 175.9384,-437.0363 166.2107,-425.575\"/>\n",
       "<polygon fill=\"#000000\" stroke=\"#000000\" points=\"168.7638,-423.1743 159.6244,-417.8149 163.4269,-427.7039 168.7638,-423.1743\"/>\n",
       "</g>\n",
       "<!-- 5 -->\n",
       "<g id=\"node6\" class=\"node\">\n",
       "<title>5</title>\n",
       "<path fill=\"#bddef6\" stroke=\"#000000\" d=\"M300.5,-425C300.5,-425 210.5,-425 210.5,-425 204.5,-425 198.5,-419 198.5,-413 198.5,-413 198.5,-354 198.5,-354 198.5,-348 204.5,-342 210.5,-342 210.5,-342 300.5,-342 300.5,-342 306.5,-342 312.5,-348 312.5,-354 312.5,-354 312.5,-413 312.5,-413 312.5,-419 306.5,-425 300.5,-425\"/>\n",
       "<text text-anchor=\"middle\" x=\"255.5\" y=\"-409.8\" font-family=\"Helvetica,sans-Serif\" font-size=\"14.00\" fill=\"#000000\">Location &lt;= 1.5</text>\n",
       "<text text-anchor=\"middle\" x=\"255.5\" y=\"-394.8\" font-family=\"Helvetica,sans-Serif\" font-size=\"14.00\" fill=\"#000000\">entropy = 0.971</text>\n",
       "<text text-anchor=\"middle\" x=\"255.5\" y=\"-379.8\" font-family=\"Helvetica,sans-Serif\" font-size=\"14.00\" fill=\"#000000\">samples = 5</text>\n",
       "<text text-anchor=\"middle\" x=\"255.5\" y=\"-364.8\" font-family=\"Helvetica,sans-Serif\" font-size=\"14.00\" fill=\"#000000\">value = [2, 3]</text>\n",
       "<text text-anchor=\"middle\" x=\"255.5\" y=\"-349.8\" font-family=\"Helvetica,sans-Serif\" font-size=\"14.00\" fill=\"#000000\">class = Yes</text>\n",
       "</g>\n",
       "<!-- 3&#45;&gt;5 -->\n",
       "<g id=\"edge5\" class=\"edge\">\n",
       "<title>3&#45;&gt;5</title>\n",
       "<path fill=\"none\" stroke=\"#000000\" d=\"M239.894,-460.8796C241.5651,-452.5938 243.3391,-443.798 245.0688,-435.2216\"/>\n",
       "<polygon fill=\"#000000\" stroke=\"#000000\" points=\"248.524,-435.7927 247.0701,-425.2981 241.6621,-434.4087 248.524,-435.7927\"/>\n",
       "</g>\n",
       "<!-- 6 -->\n",
       "<g id=\"node7\" class=\"node\">\n",
       "<title>6</title>\n",
       "<path fill=\"#7bbeee\" stroke=\"#000000\" d=\"M222.5,-306C222.5,-306 132.5,-306 132.5,-306 126.5,-306 120.5,-300 120.5,-294 120.5,-294 120.5,-235 120.5,-235 120.5,-229 126.5,-223 132.5,-223 132.5,-223 222.5,-223 222.5,-223 228.5,-223 234.5,-229 234.5,-235 234.5,-235 234.5,-294 234.5,-294 234.5,-300 228.5,-306 222.5,-306\"/>\n",
       "<text text-anchor=\"middle\" x=\"177.5\" y=\"-290.8\" font-family=\"Helvetica,sans-Serif\" font-size=\"14.00\" fill=\"#000000\">Location &lt;= 0.5</text>\n",
       "<text text-anchor=\"middle\" x=\"177.5\" y=\"-275.8\" font-family=\"Helvetica,sans-Serif\" font-size=\"14.00\" fill=\"#000000\">entropy = 0.811</text>\n",
       "<text text-anchor=\"middle\" x=\"177.5\" y=\"-260.8\" font-family=\"Helvetica,sans-Serif\" font-size=\"14.00\" fill=\"#000000\">samples = 4</text>\n",
       "<text text-anchor=\"middle\" x=\"177.5\" y=\"-245.8\" font-family=\"Helvetica,sans-Serif\" font-size=\"14.00\" fill=\"#000000\">value = [1, 3]</text>\n",
       "<text text-anchor=\"middle\" x=\"177.5\" y=\"-230.8\" font-family=\"Helvetica,sans-Serif\" font-size=\"14.00\" fill=\"#000000\">class = Yes</text>\n",
       "</g>\n",
       "<!-- 5&#45;&gt;6 -->\n",
       "<g id=\"edge6\" class=\"edge\">\n",
       "<title>5&#45;&gt;6</title>\n",
       "<path fill=\"none\" stroke=\"#000000\" d=\"M228.2194,-341.8796C222.4932,-333.1434 216.3954,-323.8404 210.4863,-314.8253\"/>\n",
       "<polygon fill=\"#000000\" stroke=\"#000000\" points=\"213.3063,-312.7429 204.8971,-306.2981 207.4518,-316.5803 213.3063,-312.7429\"/>\n",
       "</g>\n",
       "<!-- 11 -->\n",
       "<g id=\"node12\" class=\"node\">\n",
       "<title>11</title>\n",
       "<path fill=\"#e58139\" stroke=\"#000000\" d=\"M340,-298.5C340,-298.5 265,-298.5 265,-298.5 259,-298.5 253,-292.5 253,-286.5 253,-286.5 253,-242.5 253,-242.5 253,-236.5 259,-230.5 265,-230.5 265,-230.5 340,-230.5 340,-230.5 346,-230.5 352,-236.5 352,-242.5 352,-242.5 352,-286.5 352,-286.5 352,-292.5 346,-298.5 340,-298.5\"/>\n",
       "<text text-anchor=\"middle\" x=\"302.5\" y=\"-283.3\" font-family=\"Helvetica,sans-Serif\" font-size=\"14.00\" fill=\"#000000\">entropy = 0.0</text>\n",
       "<text text-anchor=\"middle\" x=\"302.5\" y=\"-268.3\" font-family=\"Helvetica,sans-Serif\" font-size=\"14.00\" fill=\"#000000\">samples = 1</text>\n",
       "<text text-anchor=\"middle\" x=\"302.5\" y=\"-253.3\" font-family=\"Helvetica,sans-Serif\" font-size=\"14.00\" fill=\"#000000\">value = [1, 0]</text>\n",
       "<text text-anchor=\"middle\" x=\"302.5\" y=\"-238.3\" font-family=\"Helvetica,sans-Serif\" font-size=\"14.00\" fill=\"#000000\">class = No</text>\n",
       "</g>\n",
       "<!-- 5&#45;&gt;11 -->\n",
       "<g id=\"edge11\" class=\"edge\">\n",
       "<title>5&#45;&gt;11</title>\n",
       "<path fill=\"none\" stroke=\"#000000\" d=\"M271.9383,-341.8796C276.2379,-330.9935 280.8851,-319.227 285.2268,-308.2344\"/>\n",
       "<polygon fill=\"#000000\" stroke=\"#000000\" points=\"288.5288,-309.4015 288.947,-298.8149 282.0182,-306.8301 288.5288,-309.4015\"/>\n",
       "</g>\n",
       "<!-- 7 -->\n",
       "<g id=\"node8\" class=\"node\">\n",
       "<title>7</title>\n",
       "<path fill=\"#ffffff\" stroke=\"#000000\" d=\"M167.5,-187C167.5,-187 47.5,-187 47.5,-187 41.5,-187 35.5,-181 35.5,-175 35.5,-175 35.5,-116 35.5,-116 35.5,-110 41.5,-104 47.5,-104 47.5,-104 167.5,-104 167.5,-104 173.5,-104 179.5,-110 179.5,-116 179.5,-116 179.5,-175 179.5,-175 179.5,-181 173.5,-187 167.5,-187\"/>\n",
       "<text text-anchor=\"middle\" x=\"107.5\" y=\"-171.8\" font-family=\"Helvetica,sans-Serif\" font-size=\"14.00\" fill=\"#000000\">Favorite Beer &lt;= 0.5</text>\n",
       "<text text-anchor=\"middle\" x=\"107.5\" y=\"-156.8\" font-family=\"Helvetica,sans-Serif\" font-size=\"14.00\" fill=\"#000000\">entropy = 1.0</text>\n",
       "<text text-anchor=\"middle\" x=\"107.5\" y=\"-141.8\" font-family=\"Helvetica,sans-Serif\" font-size=\"14.00\" fill=\"#000000\">samples = 2</text>\n",
       "<text text-anchor=\"middle\" x=\"107.5\" y=\"-126.8\" font-family=\"Helvetica,sans-Serif\" font-size=\"14.00\" fill=\"#000000\">value = [1, 1]</text>\n",
       "<text text-anchor=\"middle\" x=\"107.5\" y=\"-111.8\" font-family=\"Helvetica,sans-Serif\" font-size=\"14.00\" fill=\"#000000\">class = No</text>\n",
       "</g>\n",
       "<!-- 6&#45;&gt;7 -->\n",
       "<g id=\"edge7\" class=\"edge\">\n",
       "<title>6&#45;&gt;7</title>\n",
       "<path fill=\"none\" stroke=\"#000000\" d=\"M153.0174,-222.8796C147.9315,-214.2335 142.5189,-205.0322 137.2672,-196.1042\"/>\n",
       "<polygon fill=\"#000000\" stroke=\"#000000\" points=\"140.1741,-194.1428 132.0871,-187.2981 134.1406,-197.692 140.1741,-194.1428\"/>\n",
       "</g>\n",
       "<!-- 10 -->\n",
       "<g id=\"node11\" class=\"node\">\n",
       "<title>10</title>\n",
       "<path fill=\"#399de5\" stroke=\"#000000\" d=\"M285,-179.5C285,-179.5 210,-179.5 210,-179.5 204,-179.5 198,-173.5 198,-167.5 198,-167.5 198,-123.5 198,-123.5 198,-117.5 204,-111.5 210,-111.5 210,-111.5 285,-111.5 285,-111.5 291,-111.5 297,-117.5 297,-123.5 297,-123.5 297,-167.5 297,-167.5 297,-173.5 291,-179.5 285,-179.5\"/>\n",
       "<text text-anchor=\"middle\" x=\"247.5\" y=\"-164.3\" font-family=\"Helvetica,sans-Serif\" font-size=\"14.00\" fill=\"#000000\">entropy = 0.0</text>\n",
       "<text text-anchor=\"middle\" x=\"247.5\" y=\"-149.3\" font-family=\"Helvetica,sans-Serif\" font-size=\"14.00\" fill=\"#000000\">samples = 2</text>\n",
       "<text text-anchor=\"middle\" x=\"247.5\" y=\"-134.3\" font-family=\"Helvetica,sans-Serif\" font-size=\"14.00\" fill=\"#000000\">value = [0, 2]</text>\n",
       "<text text-anchor=\"middle\" x=\"247.5\" y=\"-119.3\" font-family=\"Helvetica,sans-Serif\" font-size=\"14.00\" fill=\"#000000\">class = Yes</text>\n",
       "</g>\n",
       "<!-- 6&#45;&gt;10 -->\n",
       "<g id=\"edge10\" class=\"edge\">\n",
       "<title>6&#45;&gt;10</title>\n",
       "<path fill=\"none\" stroke=\"#000000\" d=\"M201.9826,-222.8796C208.5156,-211.7735 215.5875,-199.7513 222.1652,-188.5691\"/>\n",
       "<polygon fill=\"#000000\" stroke=\"#000000\" points=\"225.2613,-190.2089 227.3147,-179.8149 219.2277,-186.6597 225.2613,-190.2089\"/>\n",
       "</g>\n",
       "<!-- 8 -->\n",
       "<g id=\"node9\" class=\"node\">\n",
       "<title>8</title>\n",
       "<path fill=\"#399de5\" stroke=\"#000000\" d=\"M87,-68C87,-68 12,-68 12,-68 6,-68 0,-62 0,-56 0,-56 0,-12 0,-12 0,-6 6,0 12,0 12,0 87,0 87,0 93,0 99,-6 99,-12 99,-12 99,-56 99,-56 99,-62 93,-68 87,-68\"/>\n",
       "<text text-anchor=\"middle\" x=\"49.5\" y=\"-52.8\" font-family=\"Helvetica,sans-Serif\" font-size=\"14.00\" fill=\"#000000\">entropy = 0.0</text>\n",
       "<text text-anchor=\"middle\" x=\"49.5\" y=\"-37.8\" font-family=\"Helvetica,sans-Serif\" font-size=\"14.00\" fill=\"#000000\">samples = 1</text>\n",
       "<text text-anchor=\"middle\" x=\"49.5\" y=\"-22.8\" font-family=\"Helvetica,sans-Serif\" font-size=\"14.00\" fill=\"#000000\">value = [0, 1]</text>\n",
       "<text text-anchor=\"middle\" x=\"49.5\" y=\"-7.8\" font-family=\"Helvetica,sans-Serif\" font-size=\"14.00\" fill=\"#000000\">class = Yes</text>\n",
       "</g>\n",
       "<!-- 7&#45;&gt;8 -->\n",
       "<g id=\"edge8\" class=\"edge\">\n",
       "<title>7&#45;&gt;8</title>\n",
       "<path fill=\"none\" stroke=\"#000000\" d=\"M85.9029,-103.9815C81.3612,-95.2504 76.5598,-86.0202 71.9863,-77.2281\"/>\n",
       "<polygon fill=\"#000000\" stroke=\"#000000\" points=\"75.0431,-75.52 67.3233,-68.2637 68.8331,-78.7504 75.0431,-75.52\"/>\n",
       "</g>\n",
       "<!-- 9 -->\n",
       "<g id=\"node10\" class=\"node\">\n",
       "<title>9</title>\n",
       "<path fill=\"#e58139\" stroke=\"#000000\" d=\"M204,-68C204,-68 129,-68 129,-68 123,-68 117,-62 117,-56 117,-56 117,-12 117,-12 117,-6 123,0 129,0 129,0 204,0 204,0 210,0 216,-6 216,-12 216,-12 216,-56 216,-56 216,-62 210,-68 204,-68\"/>\n",
       "<text text-anchor=\"middle\" x=\"166.5\" y=\"-52.8\" font-family=\"Helvetica,sans-Serif\" font-size=\"14.00\" fill=\"#000000\">entropy = 0.0</text>\n",
       "<text text-anchor=\"middle\" x=\"166.5\" y=\"-37.8\" font-family=\"Helvetica,sans-Serif\" font-size=\"14.00\" fill=\"#000000\">samples = 1</text>\n",
       "<text text-anchor=\"middle\" x=\"166.5\" y=\"-22.8\" font-family=\"Helvetica,sans-Serif\" font-size=\"14.00\" fill=\"#000000\">value = [1, 0]</text>\n",
       "<text text-anchor=\"middle\" x=\"166.5\" y=\"-7.8\" font-family=\"Helvetica,sans-Serif\" font-size=\"14.00\" fill=\"#000000\">class = No</text>\n",
       "</g>\n",
       "<!-- 7&#45;&gt;9 -->\n",
       "<g id=\"edge9\" class=\"edge\">\n",
       "<title>7&#45;&gt;9</title>\n",
       "<path fill=\"none\" stroke=\"#000000\" d=\"M129.4694,-103.9815C134.0895,-95.2504 138.9736,-86.0202 143.626,-77.2281\"/>\n",
       "<polygon fill=\"#000000\" stroke=\"#000000\" points=\"146.7859,-78.7395 148.3694,-68.2637 140.5987,-75.4655 146.7859,-78.7395\"/>\n",
       "</g>\n",
       "<!-- 15 -->\n",
       "<g id=\"node16\" class=\"node\">\n",
       "<title>15</title>\n",
       "<path fill=\"#e58139\" stroke=\"#000000\" d=\"M517,-655.5C517,-655.5 442,-655.5 442,-655.5 436,-655.5 430,-649.5 430,-643.5 430,-643.5 430,-599.5 430,-599.5 430,-593.5 436,-587.5 442,-587.5 442,-587.5 517,-587.5 517,-587.5 523,-587.5 529,-593.5 529,-599.5 529,-599.5 529,-643.5 529,-643.5 529,-649.5 523,-655.5 517,-655.5\"/>\n",
       "<text text-anchor=\"middle\" x=\"479.5\" y=\"-640.3\" font-family=\"Helvetica,sans-Serif\" font-size=\"14.00\" fill=\"#000000\">entropy = 0.0</text>\n",
       "<text text-anchor=\"middle\" x=\"479.5\" y=\"-625.3\" font-family=\"Helvetica,sans-Serif\" font-size=\"14.00\" fill=\"#000000\">samples = 1</text>\n",
       "<text text-anchor=\"middle\" x=\"479.5\" y=\"-610.3\" font-family=\"Helvetica,sans-Serif\" font-size=\"14.00\" fill=\"#000000\">value = [1, 0]</text>\n",
       "<text text-anchor=\"middle\" x=\"479.5\" y=\"-595.3\" font-family=\"Helvetica,sans-Serif\" font-size=\"14.00\" fill=\"#000000\">class = No</text>\n",
       "</g>\n",
       "<!-- 14&#45;&gt;15 -->\n",
       "<g id=\"edge15\" class=\"edge\">\n",
       "<title>14&#45;&gt;15</title>\n",
       "<path fill=\"none\" stroke=\"#000000\" d=\"M483.4015,-698.8796C482.8637,-688.2134 482.2833,-676.7021 481.7387,-665.9015\"/>\n",
       "<polygon fill=\"#000000\" stroke=\"#000000\" points=\"485.2294,-665.626 481.2302,-655.8149 478.2383,-665.9785 485.2294,-665.626\"/>\n",
       "</g>\n",
       "<!-- 16 -->\n",
       "<g id=\"node17\" class=\"node\">\n",
       "<title>16</title>\n",
       "<path fill=\"#f2c09c\" stroke=\"#000000\" d=\"M649.5,-663C649.5,-663 559.5,-663 559.5,-663 553.5,-663 547.5,-657 547.5,-651 547.5,-651 547.5,-592 547.5,-592 547.5,-586 553.5,-580 559.5,-580 559.5,-580 649.5,-580 649.5,-580 655.5,-580 661.5,-586 661.5,-592 661.5,-592 661.5,-651 661.5,-651 661.5,-657 655.5,-663 649.5,-663\"/>\n",
       "<text text-anchor=\"middle\" x=\"604.5\" y=\"-647.8\" font-family=\"Helvetica,sans-Serif\" font-size=\"14.00\" fill=\"#000000\">VIP &lt;= 0.5</text>\n",
       "<text text-anchor=\"middle\" x=\"604.5\" y=\"-632.8\" font-family=\"Helvetica,sans-Serif\" font-size=\"14.00\" fill=\"#000000\">entropy = 0.918</text>\n",
       "<text text-anchor=\"middle\" x=\"604.5\" y=\"-617.8\" font-family=\"Helvetica,sans-Serif\" font-size=\"14.00\" fill=\"#000000\">samples = 6</text>\n",
       "<text text-anchor=\"middle\" x=\"604.5\" y=\"-602.8\" font-family=\"Helvetica,sans-Serif\" font-size=\"14.00\" fill=\"#000000\">value = [4, 2]</text>\n",
       "<text text-anchor=\"middle\" x=\"604.5\" y=\"-587.8\" font-family=\"Helvetica,sans-Serif\" font-size=\"14.00\" fill=\"#000000\">class = No</text>\n",
       "</g>\n",
       "<!-- 14&#45;&gt;16 -->\n",
       "<g id=\"edge16\" class=\"edge\">\n",
       "<title>14&#45;&gt;16</title>\n",
       "<path fill=\"none\" stroke=\"#000000\" d=\"M527.1204,-698.8796C536.3069,-689.6931 546.1202,-679.8798 555.5664,-670.4336\"/>\n",
       "<polygon fill=\"#000000\" stroke=\"#000000\" points=\"558.1057,-672.8441 562.7019,-663.2981 553.1559,-667.8943 558.1057,-672.8441\"/>\n",
       "</g>\n",
       "<!-- 17 -->\n",
       "<g id=\"node18\" class=\"node\">\n",
       "<title>17</title>\n",
       "<path fill=\"#eca06a\" stroke=\"#000000\" d=\"M584.5,-544C584.5,-544 494.5,-544 494.5,-544 488.5,-544 482.5,-538 482.5,-532 482.5,-532 482.5,-473 482.5,-473 482.5,-467 488.5,-461 494.5,-461 494.5,-461 584.5,-461 584.5,-461 590.5,-461 596.5,-467 596.5,-473 596.5,-473 596.5,-532 596.5,-532 596.5,-538 590.5,-544 584.5,-544\"/>\n",
       "<text text-anchor=\"middle\" x=\"539.5\" y=\"-528.8\" font-family=\"Helvetica,sans-Serif\" font-size=\"14.00\" fill=\"#000000\">Location &lt;= 2.0</text>\n",
       "<text text-anchor=\"middle\" x=\"539.5\" y=\"-513.8\" font-family=\"Helvetica,sans-Serif\" font-size=\"14.00\" fill=\"#000000\">entropy = 0.722</text>\n",
       "<text text-anchor=\"middle\" x=\"539.5\" y=\"-498.8\" font-family=\"Helvetica,sans-Serif\" font-size=\"14.00\" fill=\"#000000\">samples = 5</text>\n",
       "<text text-anchor=\"middle\" x=\"539.5\" y=\"-483.8\" font-family=\"Helvetica,sans-Serif\" font-size=\"14.00\" fill=\"#000000\">value = [4, 1]</text>\n",
       "<text text-anchor=\"middle\" x=\"539.5\" y=\"-468.8\" font-family=\"Helvetica,sans-Serif\" font-size=\"14.00\" fill=\"#000000\">class = No</text>\n",
       "</g>\n",
       "<!-- 16&#45;&gt;17 -->\n",
       "<g id=\"edge17\" class=\"edge\">\n",
       "<title>16&#45;&gt;17</title>\n",
       "<path fill=\"none\" stroke=\"#000000\" d=\"M581.7662,-579.8796C577.0435,-571.2335 572.0176,-562.0322 567.141,-553.1042\"/>\n",
       "<polygon fill=\"#000000\" stroke=\"#000000\" points=\"570.1963,-551.3964 562.3309,-544.2981 564.053,-554.752 570.1963,-551.3964\"/>\n",
       "</g>\n",
       "<!-- 22 -->\n",
       "<g id=\"node23\" class=\"node\">\n",
       "<title>22</title>\n",
       "<path fill=\"#399de5\" stroke=\"#000000\" d=\"M702,-536.5C702,-536.5 627,-536.5 627,-536.5 621,-536.5 615,-530.5 615,-524.5 615,-524.5 615,-480.5 615,-480.5 615,-474.5 621,-468.5 627,-468.5 627,-468.5 702,-468.5 702,-468.5 708,-468.5 714,-474.5 714,-480.5 714,-480.5 714,-524.5 714,-524.5 714,-530.5 708,-536.5 702,-536.5\"/>\n",
       "<text text-anchor=\"middle\" x=\"664.5\" y=\"-521.3\" font-family=\"Helvetica,sans-Serif\" font-size=\"14.00\" fill=\"#000000\">entropy = 0.0</text>\n",
       "<text text-anchor=\"middle\" x=\"664.5\" y=\"-506.3\" font-family=\"Helvetica,sans-Serif\" font-size=\"14.00\" fill=\"#000000\">samples = 1</text>\n",
       "<text text-anchor=\"middle\" x=\"664.5\" y=\"-491.3\" font-family=\"Helvetica,sans-Serif\" font-size=\"14.00\" fill=\"#000000\">value = [0, 1]</text>\n",
       "<text text-anchor=\"middle\" x=\"664.5\" y=\"-476.3\" font-family=\"Helvetica,sans-Serif\" font-size=\"14.00\" fill=\"#000000\">class = Yes</text>\n",
       "</g>\n",
       "<!-- 16&#45;&gt;22 -->\n",
       "<g id=\"edge22\" class=\"edge\">\n",
       "<title>16&#45;&gt;22</title>\n",
       "<path fill=\"none\" stroke=\"#000000\" d=\"M625.4851,-579.8796C631.0293,-568.8835 637.0264,-556.9893 642.6169,-545.9015\"/>\n",
       "<polygon fill=\"#000000\" stroke=\"#000000\" points=\"645.8214,-547.3199 647.1984,-536.8149 639.5709,-544.1684 645.8214,-547.3199\"/>\n",
       "</g>\n",
       "<!-- 18 -->\n",
       "<g id=\"node19\" class=\"node\">\n",
       "<title>18</title>\n",
       "<path fill=\"#f2c09c\" stroke=\"#000000\" d=\"M560.5,-425C560.5,-425 470.5,-425 470.5,-425 464.5,-425 458.5,-419 458.5,-413 458.5,-413 458.5,-354 458.5,-354 458.5,-348 464.5,-342 470.5,-342 470.5,-342 560.5,-342 560.5,-342 566.5,-342 572.5,-348 572.5,-354 572.5,-354 572.5,-413 572.5,-413 572.5,-419 566.5,-425 560.5,-425\"/>\n",
       "<text text-anchor=\"middle\" x=\"515.5\" y=\"-409.8\" font-family=\"Helvetica,sans-Serif\" font-size=\"14.00\" fill=\"#000000\">Price &lt;= 1.5</text>\n",
       "<text text-anchor=\"middle\" x=\"515.5\" y=\"-394.8\" font-family=\"Helvetica,sans-Serif\" font-size=\"14.00\" fill=\"#000000\">entropy = 0.918</text>\n",
       "<text text-anchor=\"middle\" x=\"515.5\" y=\"-379.8\" font-family=\"Helvetica,sans-Serif\" font-size=\"14.00\" fill=\"#000000\">samples = 3</text>\n",
       "<text text-anchor=\"middle\" x=\"515.5\" y=\"-364.8\" font-family=\"Helvetica,sans-Serif\" font-size=\"14.00\" fill=\"#000000\">value = [2, 1]</text>\n",
       "<text text-anchor=\"middle\" x=\"515.5\" y=\"-349.8\" font-family=\"Helvetica,sans-Serif\" font-size=\"14.00\" fill=\"#000000\">class = No</text>\n",
       "</g>\n",
       "<!-- 17&#45;&gt;18 -->\n",
       "<g id=\"edge18\" class=\"edge\">\n",
       "<title>17&#45;&gt;18</title>\n",
       "<path fill=\"none\" stroke=\"#000000\" d=\"M531.106,-460.8796C529.4349,-452.5938 527.6609,-443.798 525.9312,-435.2216\"/>\n",
       "<polygon fill=\"#000000\" stroke=\"#000000\" points=\"529.3379,-434.4087 523.9299,-425.2981 522.476,-435.7927 529.3379,-434.4087\"/>\n",
       "</g>\n",
       "<!-- 21 -->\n",
       "<g id=\"node22\" class=\"node\">\n",
       "<title>21</title>\n",
       "<path fill=\"#e58139\" stroke=\"#000000\" d=\"M678,-417.5C678,-417.5 603,-417.5 603,-417.5 597,-417.5 591,-411.5 591,-405.5 591,-405.5 591,-361.5 591,-361.5 591,-355.5 597,-349.5 603,-349.5 603,-349.5 678,-349.5 678,-349.5 684,-349.5 690,-355.5 690,-361.5 690,-361.5 690,-405.5 690,-405.5 690,-411.5 684,-417.5 678,-417.5\"/>\n",
       "<text text-anchor=\"middle\" x=\"640.5\" y=\"-402.3\" font-family=\"Helvetica,sans-Serif\" font-size=\"14.00\" fill=\"#000000\">entropy = 0.0</text>\n",
       "<text text-anchor=\"middle\" x=\"640.5\" y=\"-387.3\" font-family=\"Helvetica,sans-Serif\" font-size=\"14.00\" fill=\"#000000\">samples = 2</text>\n",
       "<text text-anchor=\"middle\" x=\"640.5\" y=\"-372.3\" font-family=\"Helvetica,sans-Serif\" font-size=\"14.00\" fill=\"#000000\">value = [2, 0]</text>\n",
       "<text text-anchor=\"middle\" x=\"640.5\" y=\"-357.3\" font-family=\"Helvetica,sans-Serif\" font-size=\"14.00\" fill=\"#000000\">class = No</text>\n",
       "</g>\n",
       "<!-- 17&#45;&gt;21 -->\n",
       "<g id=\"edge21\" class=\"edge\">\n",
       "<title>17&#45;&gt;21</title>\n",
       "<path fill=\"none\" stroke=\"#000000\" d=\"M574.8249,-460.8796C584.531,-449.4436 595.0616,-437.0363 604.7893,-425.575\"/>\n",
       "<polygon fill=\"#000000\" stroke=\"#000000\" points=\"607.5731,-427.7039 611.3756,-417.8149 602.2362,-423.1743 607.5731,-427.7039\"/>\n",
       "</g>\n",
       "<!-- 19 -->\n",
       "<g id=\"node20\" class=\"node\">\n",
       "<title>19</title>\n",
       "<path fill=\"#ffffff\" stroke=\"#000000\" d=\"M465,-298.5C465,-298.5 390,-298.5 390,-298.5 384,-298.5 378,-292.5 378,-286.5 378,-286.5 378,-242.5 378,-242.5 378,-236.5 384,-230.5 390,-230.5 390,-230.5 465,-230.5 465,-230.5 471,-230.5 477,-236.5 477,-242.5 477,-242.5 477,-286.5 477,-286.5 477,-292.5 471,-298.5 465,-298.5\"/>\n",
       "<text text-anchor=\"middle\" x=\"427.5\" y=\"-283.3\" font-family=\"Helvetica,sans-Serif\" font-size=\"14.00\" fill=\"#000000\">entropy = 1.0</text>\n",
       "<text text-anchor=\"middle\" x=\"427.5\" y=\"-268.3\" font-family=\"Helvetica,sans-Serif\" font-size=\"14.00\" fill=\"#000000\">samples = 2</text>\n",
       "<text text-anchor=\"middle\" x=\"427.5\" y=\"-253.3\" font-family=\"Helvetica,sans-Serif\" font-size=\"14.00\" fill=\"#000000\">value = [1, 1]</text>\n",
       "<text text-anchor=\"middle\" x=\"427.5\" y=\"-238.3\" font-family=\"Helvetica,sans-Serif\" font-size=\"14.00\" fill=\"#000000\">class = No</text>\n",
       "</g>\n",
       "<!-- 18&#45;&gt;19 -->\n",
       "<g id=\"edge19\" class=\"edge\">\n",
       "<title>18&#45;&gt;19</title>\n",
       "<path fill=\"none\" stroke=\"#000000\" d=\"M484.7219,-341.8796C476.3464,-330.5536 467.2662,-318.2748 458.8589,-306.9058\"/>\n",
       "<polygon fill=\"#000000\" stroke=\"#000000\" points=\"461.6357,-304.7743 452.8758,-298.8149 456.0075,-308.9364 461.6357,-304.7743\"/>\n",
       "</g>\n",
       "<!-- 20 -->\n",
       "<g id=\"node21\" class=\"node\">\n",
       "<title>20</title>\n",
       "<path fill=\"#e58139\" stroke=\"#000000\" d=\"M582,-298.5C582,-298.5 507,-298.5 507,-298.5 501,-298.5 495,-292.5 495,-286.5 495,-286.5 495,-242.5 495,-242.5 495,-236.5 501,-230.5 507,-230.5 507,-230.5 582,-230.5 582,-230.5 588,-230.5 594,-236.5 594,-242.5 594,-242.5 594,-286.5 594,-286.5 594,-292.5 588,-298.5 582,-298.5\"/>\n",
       "<text text-anchor=\"middle\" x=\"544.5\" y=\"-283.3\" font-family=\"Helvetica,sans-Serif\" font-size=\"14.00\" fill=\"#000000\">entropy = 0.0</text>\n",
       "<text text-anchor=\"middle\" x=\"544.5\" y=\"-268.3\" font-family=\"Helvetica,sans-Serif\" font-size=\"14.00\" fill=\"#000000\">samples = 1</text>\n",
       "<text text-anchor=\"middle\" x=\"544.5\" y=\"-253.3\" font-family=\"Helvetica,sans-Serif\" font-size=\"14.00\" fill=\"#000000\">value = [1, 0]</text>\n",
       "<text text-anchor=\"middle\" x=\"544.5\" y=\"-238.3\" font-family=\"Helvetica,sans-Serif\" font-size=\"14.00\" fill=\"#000000\">class = No</text>\n",
       "</g>\n",
       "<!-- 18&#45;&gt;20 -->\n",
       "<g id=\"edge20\" class=\"edge\">\n",
       "<title>18&#45;&gt;20</title>\n",
       "<path fill=\"none\" stroke=\"#000000\" d=\"M525.6428,-341.8796C528.2689,-331.1034 531.1052,-319.4647 533.7608,-308.5677\"/>\n",
       "<polygon fill=\"#000000\" stroke=\"#000000\" points=\"537.1703,-309.3593 536.1375,-298.8149 530.3693,-307.7019 537.1703,-309.3593\"/>\n",
       "</g>\n",
       "</g>\n",
       "</svg>\n"
      ],
      "text/plain": [
       "<graphviz.files.Source at 0x1a1cccd5d0>"
      ]
     },
     "execution_count": 31,
     "metadata": {},
     "output_type": "execute_result"
    }
   ],
   "source": [
    "#Graph\n",
    "import graphviz\n",
    "feature_names = X.columns\n",
    "\n",
    "dot_data = tree.export_graphviz(dtmodel, out_file=None, filled=True, rounded=True,\n",
    "                                feature_names=feature_names,  \n",
    "                                class_names=class_names)\n",
    "graph = graphviz.Source(dot_data)  \n",
    "graph"
   ]
  },
  {
   "cell_type": "markdown",
   "metadata": {},
   "source": [
    "#### How to use it\n",
    "The function we chose is ‘DecisionTreeClassifier’ from ‘sklearn.tree’. Since the model could only deal with numerical variables, we used the factorize method of the pandas library to convert the string categorical values into an integer code. We later assigned ‘Enjoy’ as target variable ‘y’, and others as feature variables ‘X’. We created the Decision Tree Model using Scikit-learn based on the dataset and predicted the given test data. The prediction result was '1' which meant ‘Yes’. Then we applied ‘export_graphviz’ function to display the tree.\n",
    "\n",
    "\n",
    "#### Comparison\n",
    "One of the biggest differences between our decision tree and python library's is that in our tree each node can have more than two subtrees. However, the nodes in sklearn package can only have two subtrees. This makes the decision tree be much deeper than ours, but it is still easy to use. \n",
    "\n",
    "And we can improve the code at create_tree part. We use three nested for loops, which will make the time consumption as high as O(n^3). And we even nest recursion inside the for loops. However, to improve these flaws, we need to have deeper understanding and more knowledge for coding. \n"
   ]
  },
  {
   "cell_type": "markdown",
   "metadata": {},
   "source": [
    "## Part 3:Real Life Application"
   ]
  },
  {
   "cell_type": "markdown",
   "metadata": {},
   "source": [
    "### 1. Dating website"
   ]
  },
  {
   "cell_type": "markdown",
   "metadata": {},
   "source": [
    "Each user in the dating platform often has some attribute values that can be seen by other users, such as age, location, occupation, interests, avatar photos, and so on.  The decision tree model is used to generate a personalized dating preference model for each user, and the candidate recommendation list is classified and ranked. When a user meets a new user, according to decision tree model, the attributes of the new user will predict the degree of preference that results, and then decide whether to recommend this new user out and prioritize recommendations.\n"
   ]
  },
  {
   "cell_type": "markdown",
   "metadata": {},
   "source": [
    "### 2. Business Management"
   ]
  },
  {
   "cell_type": "markdown",
   "metadata": {},
   "source": [
    "Management may face some uncomfortable situations to make some hard decisions. A decision tree can visualize certain alternative choices clearly and the consequences of these choices. It also can compare the costs and likely values to check whether a decision is worthwhile. Here is a true example. <https://gbr.pepperdine.edu/2010/08/how-gerber-used-a-decision-tree-in-strategic-decision-making/>"
   ]
  },
  {
   "cell_type": "markdown",
   "metadata": {},
   "source": [
    "### 3. Predict personality traits"
   ]
  },
  {
   "cell_type": "markdown",
   "metadata": {},
   "source": [
    "Project researchers found 50 students and recorded their sight data when students watched recorded high-resolution video on the scene with smartphones. Researched also collected students’ specific behavior data and their self-test questionnaires about personality. After data cleaning, the researchers divided each personality feature into 3 personality score ranges (low, medium, and high), and then they created a random forest classifier for each personality feature, consisting of 100 decision trees. After training the model, let the model predict the score of the personality in these three score ranges. <https://github.molgen.mpg.de/sabrina-hoppe/everyday-eye-movements-predict-personality>"
   ]
  }
 ],
 "metadata": {
  "kernelspec": {
   "display_name": "Python 3",
   "language": "python",
   "name": "python3"
  },
  "language_info": {
   "codemirror_mode": {
    "name": "ipython",
    "version": 3
   },
   "file_extension": ".py",
   "mimetype": "text/x-python",
   "name": "python",
   "nbconvert_exporter": "python",
   "pygments_lexer": "ipython3",
   "version": "3.7.4"
  }
 },
 "nbformat": 4,
 "nbformat_minor": 2
}
