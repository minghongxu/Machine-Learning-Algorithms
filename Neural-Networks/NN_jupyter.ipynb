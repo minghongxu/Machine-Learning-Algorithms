{
 "cells": [
  {
   "cell_type": "code",
   "execution_count": 1,
   "metadata": {},
   "outputs": [],
   "source": [
    "import numpy as np\n",
    "from PIL import Image\n",
    "import matplotlib.pyplot as plt"
   ]
  },
  {
   "cell_type": "code",
   "execution_count": 2,
   "metadata": {},
   "outputs": [],
   "source": [
    "input_list = 'downgesture_train.list'\n",
    "test_file = 'downgesture_test.list'"
   ]
  },
  {
   "cell_type": "code",
   "execution_count": 3,
   "metadata": {},
   "outputs": [],
   "source": [
    "im = Image.open(\"gestures/C/C_down_5.pgm\")"
   ]
  },
  {
   "cell_type": "code",
   "execution_count": 4,
   "metadata": {},
   "outputs": [],
   "source": [
    "arr = np.array(list(im.getdata()))"
   ]
  },
  {
   "cell_type": "code",
   "execution_count": 20,
   "metadata": {},
   "outputs": [],
   "source": [
    "class NeuralNetwork:\n",
    "    def __init__(self, input_list, learning_rate = 0.1, epochs_numbers = 1000, inputlayer_size = 960, hiddenlayer_size = 100):\n",
    "        self.learning_rate = learning_rate\n",
    "        self.epochs_numbers = epochs_numbers\n",
    "        self.inputlayer_size = inputlayer_size\n",
    "        self.hiddenlayer_size = hiddenlayer_size\n",
    "        self.input_list = input_list\n",
    "        self.w1 = np.random.uniform(low=-0.01, high=0.01, size=(self.inputlayer_size,self.hiddenlayer_size))\n",
    "        self.w2 = np.random.uniform(low=-0.01, high=0.01, size=(self.hiddenlayer_size,1))\n",
    "    \n",
    "    def sigmoid(self,x):\n",
    "        return 1.0/(1.0 + np.exp(-x))\n",
    "    \n",
    "    def sigmoid_derivative(self,x):\n",
    "        return self.sigmoid(x) * (1-self.sigmoid(x))\n",
    "\n",
    "    def compute_xj(self,x0):\n",
    "        s1 = np.dot(x0, self.w1)\n",
    "        xj1 = self.sigmoid(s1)  #shape(1*100)\n",
    "        s2 = np.dot(xj1, self.w2)\n",
    "        xj2 = self.sigmoid(s2) #shape(1*1)\n",
    "        return xj1,xj2\n",
    "    \n",
    "    def compute_delta(self,x0,y):\n",
    "        xj1,xj2 = self.compute_xj(x0)\n",
    "        delta1 = 2 * np.multiply((xj2 - y),self.sigmoid_derivative(xj2))  #shape(1*1)\n",
    "        delta2 = np.multiply(np.dot(self.w2, delta1),self.sigmoid_derivative(xj1))  #shape(1*100)\n",
    "        self.w1 -= self.learning_rate * np.dot(x0.reshape(len(x0),1), delta2.reshape(1,self.hiddenlayer_size))\n",
    "        self.w2 -= self.learning_rate * np.dot(xj1.reshape(self.hiddenlayer_size,1), delta1.reshape(1,1))\n",
    "    \n",
    "    def propagate_everypoint(self):\n",
    "        with open(self.input_list) as f:\n",
    "            for row in f.readlines():\n",
    "                row = row.strip('\\n')\n",
    "                im = Image.open(row)\n",
    "                x = np.array(list(im.getdata()))/255\n",
    "                if 'down' in row:\n",
    "                    y = 1\n",
    "                else:\n",
    "                    y = 0\n",
    "                self.compute_delta(x,y)\n",
    "       \n",
    "    def train(self):\n",
    "        for i in range(self.epochs_numbers):\n",
    "            self.propagate_everypoint()\n",
    "        print('finish trainning')\n",
    "    \n",
    "    def predict(self,test_file):\n",
    "        result = []\n",
    "        accurate = 0\n",
    "        total = 0\n",
    "        with open(test_file) as f:\n",
    "            for row in f.readlines():\n",
    "                total += 1\n",
    "                row = row.strip('\\n')\n",
    "                im = Image.open(row)\n",
    "                x = np.array(list(im.getdata()))/255\n",
    "                tag = 0\n",
    "                if 'down' in row:\n",
    "                    tag = 1\n",
    "                x1, y = self.compute_xj(x)\n",
    "                if y >= 0.5:\n",
    "                    result.append(1)\n",
    "                    if tag == 1:\n",
    "                        accurate += 1\n",
    "                elif y < 0.5:\n",
    "                    result.append(0)\n",
    "                    if tag == 0:\n",
    "                        accurate += 1\n",
    "        return result, accurate/total\n",
    "    "
   ]
  },
  {
   "cell_type": "code",
   "execution_count": 21,
   "metadata": {},
   "outputs": [],
   "source": [
    "n = NeuralNetwork(input_list, learning_rate = 0.1, epochs_numbers = 1000, inputlayer_size = 960, hiddenlayer_size = 100)\n"
   ]
  },
  {
   "cell_type": "code",
   "execution_count": 22,
   "metadata": {},
   "outputs": [],
   "source": [
    "#n.propagate_everypoint()"
   ]
  },
  {
   "cell_type": "code",
   "execution_count": 23,
   "metadata": {},
   "outputs": [
    {
     "name": "stdout",
     "output_type": "stream",
     "text": [
      "finish trainning\n"
     ]
    }
   ],
   "source": [
    "n.train()"
   ]
  },
  {
   "cell_type": "code",
   "execution_count": 24,
   "metadata": {},
   "outputs": [],
   "source": [
    "predictions, accuracy = n.predict(test_file)"
   ]
  },
  {
   "cell_type": "markdown",
   "metadata": {},
   "source": []
  },
  {
   "cell_type": "code",
   "execution_count": 25,
   "metadata": {},
   "outputs": [
    {
     "name": "stdout",
     "output_type": "stream",
     "text": [
      "[1, 1, 0, 0, 0, 0, 0, 0, 1, 0, 0, 0, 0, 0, 0, 1, 1, 1, 0, 0, 0, 0, 0, 0, 0, 0, 0, 0, 0, 0, 0, 0, 1, 1, 0, 0, 0, 0, 1, 1, 1, 0, 0, 0, 0, 1, 1, 0, 0, 0, 1, 0, 0, 0, 0, 0, 0, 0, 0, 0, 0, 1, 0, 0, 0, 0, 1, 0, 0, 0, 0, 0, 0, 0, 1, 1, 0, 0, 0, 0, 0, 0, 0]\n"
     ]
    }
   ],
   "source": [
    "print(predictions)"
   ]
  },
  {
   "cell_type": "code",
   "execution_count": 26,
   "metadata": {},
   "outputs": [
    {
     "name": "stdout",
     "output_type": "stream",
     "text": [
      "0.891566265060241\n"
     ]
    }
   ],
   "source": [
    "print(accuracy)"
   ]
  },
  {
   "cell_type": "code",
   "execution_count": null,
   "metadata": {},
   "outputs": [],
   "source": []
  }
 ],
 "metadata": {
  "kernelspec": {
   "display_name": "Python 3",
   "language": "python",
   "name": "python3"
  },
  "language_info": {
   "codemirror_mode": {
    "name": "ipython",
    "version": 3
   },
   "file_extension": ".py",
   "mimetype": "text/x-python",
   "name": "python",
   "nbconvert_exporter": "python",
   "pygments_lexer": "ipython3",
   "version": "3.7.4"
  }
 },
 "nbformat": 4,
 "nbformat_minor": 4
}
