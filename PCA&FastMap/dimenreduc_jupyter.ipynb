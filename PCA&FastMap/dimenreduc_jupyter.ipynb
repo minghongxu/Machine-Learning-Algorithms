{
 "cells": [
  {
   "cell_type": "code",
   "execution_count": 3,
   "metadata": {},
   "outputs": [],
   "source": [
    "import math\n",
    "import numpy as np\n",
    "import random\n",
    "from numpy import linalg as LA\n",
    "import matplotlib.pyplot as plt"
   ]
  },
  {
   "cell_type": "markdown",
   "metadata": {},
   "source": [
    "### PCA"
   ]
  },
  {
   "cell_type": "code",
   "execution_count": 8,
   "metadata": {},
   "outputs": [],
   "source": [
    "pca_file = 'pca-data.txt'\n",
    "pca_array = np.loadtxt(pca_file, delimiter='\\t')"
   ]
  },
  {
   "cell_type": "code",
   "execution_count": 42,
   "metadata": {},
   "outputs": [],
   "source": [
    "class PCA:\n",
    "    def __init__(self, array):\n",
    "        self.array = array\n",
    "        self.dimension = array.shape[1]\n",
    "\n",
    "    def covariance_matrix(self):\n",
    "        num = np.zeros([self.dimension,self.dimension])\n",
    "        for i in range(len(self.array)):\n",
    "            xi = pca_array[i,:].reshape(self.dimension,1)\n",
    "            num += np.dot(xi, xi.T)\n",
    "        return num/len(self.array)\n",
    "\n",
    "    def compute_eigen(self):\n",
    "        cov = self.covariance_matrix()\n",
    "        value, vector = LA.eig(cov)\n",
    "        value = value.reshape(1,self.dimension)\n",
    "        temp = np.vstack((value, vector))\n",
    "        temp = temp.T[np.lexsort(-temp[::-1,:])].T #sort by first row, eigenvalues\n",
    "        return temp[1:,:]\n",
    "    \n",
    "    def dimension_reduction(self, k):\n",
    "        U = self.compute_eigen()\n",
    "        Utr = U[:,:k]\n",
    "        return np.dot(self.array, Utr)"
   ]
  },
  {
   "cell_type": "code",
   "execution_count": 43,
   "metadata": {},
   "outputs": [],
   "source": [
    "PCA_model = PCA(pca_array)"
   ]
  },
  {
   "cell_type": "code",
   "execution_count": 44,
   "metadata": {
    "scrolled": true
   },
   "outputs": [
    {
     "data": {
      "text/plain": [
       "array([[ 10.9534134 ,   7.41334173],\n",
       "       [-12.60979298,  -4.20854555],\n",
       "       [  0.50903371,   0.306791  ],\n",
       "       ...,\n",
       "       [ -2.84597812,   2.45905342],\n",
       "       [ 11.25979998,   4.24287306],\n",
       "       [ 14.3065786 ,   5.68334496]])"
      ]
     },
     "execution_count": 44,
     "metadata": {},
     "output_type": "execute_result"
    }
   ],
   "source": [
    "PCA_model.dimension_reduction(2)"
   ]
  },
  {
   "cell_type": "code",
   "execution_count": 45,
   "metadata": {},
   "outputs": [
    {
     "data": {
      "text/plain": [
       "array([[ 0.8666528 , -0.49630987],\n",
       "       [-0.23278176, -0.49246586],\n",
       "       [ 0.44127722,  0.71495027]])"
      ]
     },
     "execution_count": 45,
     "metadata": {},
     "output_type": "execute_result"
    }
   ],
   "source": [
    "PCA_model.compute_eigen()[:,:2]"
   ]
  },
  {
   "cell_type": "code",
   "execution_count": null,
   "metadata": {},
   "outputs": [],
   "source": []
  },
  {
   "cell_type": "markdown",
   "metadata": {},
   "source": [
    "### Fast Map"
   ]
  },
  {
   "cell_type": "code",
   "execution_count": 304,
   "metadata": {},
   "outputs": [],
   "source": [
    "fastmap_file = 'fastmap-data.txt'\n",
    "fastmap_array = np.loadtxt(fastmap_file, delimiter='\\t')"
   ]
  },
  {
   "cell_type": "code",
   "execution_count": 318,
   "metadata": {},
   "outputs": [],
   "source": [
    "wordlist_file = 'fastmap-wordlist.txt'\n",
    "wordlist = []\n",
    "with open(wordlist_file) as f:\n",
    "    for i in f:\n",
    "        i = i.strip('\\n')\n",
    "        wordlist.append(i)"
   ]
  },
  {
   "cell_type": "code",
   "execution_count": 265,
   "metadata": {},
   "outputs": [],
   "source": [
    "class Fast_Map:\n",
    "    def __init__(self, array, k):\n",
    "        self.array = array\n",
    "        self.dimension = array.shape[1]\n",
    "        self.k = k  #target dimension\n",
    "        self.Distance = {}\n",
    "        self.points = set()\n",
    "        for row in array:\n",
    "            self.Distance[(row[0], row[1])] = row[2]\n",
    "            self.points.add(row[0])\n",
    "            self.points.add(row[1])\n",
    "        self.result = np.zeros([len(self.points),k])\n",
    "        \n",
    "    def D(self, object1, object2, iteration_times):\n",
    "        if object1 < object2:\n",
    "            dis = self.Distance[(object1, object2)]\n",
    "        elif object1 == object2:\n",
    "            return 0\n",
    "        else:\n",
    "            dis = self.Distance[(object2, object1)]\n",
    "        if iteration_times == 0:\n",
    "            return dis\n",
    "        else:\n",
    "            for i in range(iteration_times):\n",
    "                dis = (dis**2 - (self.result[int(object1)-1,i]-self.result[int(object2)-1,i])**2)**0.5\n",
    "            return dis\n",
    "    \n",
    "    def farthest_pair(self, iteration_times):\n",
    "        l = list(self.points)\n",
    "        start_point, end_point = tuple(random.sample(l, 2))\n",
    "        dis = self.D(start_point, end_point ,iteration_times)\n",
    "        while True:\n",
    "            old_end = end_point\n",
    "            for point in l:\n",
    "                if point != start_point:\n",
    "                    temp_dis = self.D(start_point, point, iteration_times)\n",
    "                    if temp_dis > dis:\n",
    "                        dis = temp_dis\n",
    "                        end_point = point\n",
    "            if end_point == old_end:\n",
    "                break\n",
    "            temp_point = start_point\n",
    "            start_point = end_point\n",
    "            end_point = temp_point\n",
    "        return start_point, end_point\n",
    "    \n",
    "    def projection(self):\n",
    "        l = list(self.points)\n",
    "        for iter_times in range(self.k):\n",
    "            Oa, Ob = self.farthest_pair(iter_times)\n",
    "            for i in range(len(l)):\n",
    "                self.result[i,iter_times] = (self.D(Oa, l[i], iter_times)**2 + self.D(Oa, Ob, iter_times)**2 \\\n",
    "                                             - self.D(l[i], Ob, iter_times)**2)/(2 * self.D(Oa, Ob, iter_times))\n",
    "        return self.result"
   ]
  },
  {
   "cell_type": "code",
   "execution_count": 266,
   "metadata": {},
   "outputs": [],
   "source": [
    "Fast_Map_Model = Fast_Map(fastmap_array, 2)"
   ]
  },
  {
   "cell_type": "code",
   "execution_count": 287,
   "metadata": {
    "scrolled": true
   },
   "outputs": [],
   "source": [
    "projection = Fast_Map_Model.projection()"
   ]
  },
  {
   "cell_type": "code",
   "execution_count": 288,
   "metadata": {
    "scrolled": false
   },
   "outputs": [
    {
     "data": {
      "text/plain": [
       "array([[ 3.875     ,  1.9375    ],\n",
       "       [ 3.        ,  0.25      ],\n",
       "       [ 0.        ,  4.        ],\n",
       "       [ 1.04166667,  6.8125    ],\n",
       "       [ 2.45833333,  8.        ],\n",
       "       [ 9.5       ,  2.8125    ],\n",
       "       [ 2.45833333,  0.        ],\n",
       "       [ 1.5       ,  6.4375    ],\n",
       "       [ 2.45833333,  7.        ],\n",
       "       [12.        ,  4.        ]])"
      ]
     },
     "execution_count": 288,
     "metadata": {},
     "output_type": "execute_result"
    }
   ],
   "source": [
    "projection"
   ]
  },
  {
   "cell_type": "code",
   "execution_count": 324,
   "metadata": {
    "scrolled": true
   },
   "outputs": [
    {
     "data": {
      "image/png": "[encoded data removed]",
      "text/plain": [
       "<Figure size 432x288 with 1 Axes>"
      ]
     },
     "metadata": {
      "needs_background": "light"
     },
     "output_type": "display_data"
    }
   ],
   "source": [
    "plt.scatter(projection[:,0], projection[:,1])\n",
    "for i in range(len(wordlist)):\n",
    "    plt.annotate(wordlist[i], xy=projection[i, :])"
   ]
  },
  {
   "cell_type": "code",
   "execution_count": null,
   "metadata": {},
   "outputs": [],
   "source": []
  }
 ],
 "metadata": {
  "kernelspec": {
   "display_name": "Python 3",
   "language": "python",
   "name": "python3"
  },
  "language_info": {
   "codemirror_mode": {
    "name": "ipython",
    "version": 3
   },
   "file_extension": ".py",
   "mimetype": "text/x-python",
   "name": "python",
   "nbconvert_exporter": "python",
   "pygments_lexer": "ipython3",
   "version": "3.7.4"
  }
 },
 "nbformat": 4,
 "nbformat_minor": 4
}
