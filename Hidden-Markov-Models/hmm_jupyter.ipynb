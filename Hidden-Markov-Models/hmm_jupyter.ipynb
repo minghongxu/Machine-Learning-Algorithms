{
 "cells": [
  {
   "cell_type": "code",
   "execution_count": 2,
   "metadata": {},
   "outputs": [],
   "source": [
    "import math\n",
    "import numpy as np"
   ]
  },
  {
   "cell_type": "code",
   "execution_count": 3,
   "metadata": {},
   "outputs": [],
   "source": [
    "file= 'hmm-data.txt'"
   ]
  },
  {
   "cell_type": "code",
   "execution_count": 4,
   "metadata": {},
   "outputs": [],
   "source": [
    "def read_file(file):\n",
    "    grid_world = []\n",
    "    noisy_dis = []\n",
    "    with open(file) as f:\n",
    "        count = 0\n",
    "        for line in f:\n",
    "            if count in range(2,12):\n",
    "                grid_world.append(line.split())\n",
    "            elif count in range(24,35):\n",
    "                noisy_dis.append(line.split())\n",
    "            count += 1\n",
    "    return np.array(grid_world), np.array(noisy_dis)"
   ]
  },
  {
   "cell_type": "code",
   "execution_count": 5,
   "metadata": {},
   "outputs": [],
   "source": [
    "grid_world, noisy_dis = read_file(file)"
   ]
  },
  {
   "cell_type": "code",
   "execution_count": 6,
   "metadata": {},
   "outputs": [],
   "source": [
    "tower_loc = np.array([[0,0],[0,9],[9,0],[9,9]])"
   ]
  },
  {
   "cell_type": "code",
   "execution_count": null,
   "metadata": {},
   "outputs": [],
   "source": []
  },
  {
   "cell_type": "code",
   "execution_count": 7,
   "metadata": {},
   "outputs": [],
   "source": [
    "def find_distance_matrix(grid_world, tower_loc):\n",
    "    distance_dict = {}\n",
    "    row,col = grid_world.shape\n",
    "    for i in range(row):\n",
    "        for j in range(col):\n",
    "            if grid_world[i][j] == '1':\n",
    "                four_dis = []\n",
    "                for tower in tower_loc:\n",
    "                    dis = ((j - tower[1])**2 + (i-tower[0])**2)**0.5\n",
    "                    four_dis.append((0.7 * dis, 1.3 * dis))\n",
    "                distance_dict[(i,j)] = four_dis\n",
    "    return distance_dict"
   ]
  },
  {
   "cell_type": "code",
   "execution_count": null,
   "metadata": {},
   "outputs": [],
   "source": []
  },
  {
   "cell_type": "code",
   "execution_count": 8,
   "metadata": {},
   "outputs": [],
   "source": [
    "def find_possible_cells(grid_world, noisy_dis, distance_dict):\n",
    "    possible_cells = []\n",
    "    row,col = grid_world.shape\n",
    "    for i in range(row):\n",
    "        for j in range(col):\n",
    "            if grid_world[i][j] == '1':\n",
    "                count = 0\n",
    "                dis_range = distance_dict[(i,j)]\n",
    "                for tower_num in range(4):\n",
    "                    if float(noisy_dis[tower_num]) > dis_range[tower_num][0] and \\\n",
    "                    float(noisy_dis[tower_num]) < dis_range[tower_num][1]:\n",
    "                        count += 1\n",
    "                if count == 4:\n",
    "                    possible_cells.append((i,j))\n",
    "    return possible_cells"
   ]
  },
  {
   "cell_type": "code",
   "execution_count": null,
   "metadata": {},
   "outputs": [],
   "source": []
  },
  {
   "cell_type": "code",
   "execution_count": 9,
   "metadata": {},
   "outputs": [],
   "source": [
    "def find_transition_probability(grid_world,cell):\n",
    "    count = 0\n",
    "    x, y = cell[0], cell[1]\n",
    "    transition_probability = {}\n",
    "    if x - 1 >= 0:\n",
    "        if grid_world[x-1][y] == '1':\n",
    "            count += 1\n",
    "            transition_probability[(x-1, y)] = 0\n",
    "    if y - 1 >= 0:\n",
    "        if grid_world[x][y-1] == '1':\n",
    "            count += 1\n",
    "            transition_probability[(x, y-1)] = 0\n",
    "    if x + 1 < 10:\n",
    "        if grid_world[x+1][y] == '1':\n",
    "            count += 1\n",
    "            transition_probability[(x+1, y)] = 0\n",
    "    if y + 1 < 10:\n",
    "        if grid_world[x][y+1] == '1':\n",
    "            count += 1\n",
    "            transition_probability[(x, y+1)] = 0\n",
    "    for key in transition_probability:\n",
    "        transition_probability[key] = 1/count\n",
    "    return transition_probability"
   ]
  },
  {
   "cell_type": "code",
   "execution_count": null,
   "metadata": {},
   "outputs": [],
   "source": []
  },
  {
   "cell_type": "code",
   "execution_count": 21,
   "metadata": {},
   "outputs": [],
   "source": [
    "def find_evidence_probability(distance_dict,cell):\n",
    "    range_list = distance_dict[cell]\n",
    "    result = 1\n",
    "    for pair in range_list:\n",
    "        scope = (pair[1] - pair[0])/0.1\n",
    "        if scope == 0:\n",
    "            result = result * 1\n",
    "        else:\n",
    "            result = result * (1/scope)\n",
    "    return result"
   ]
  },
  {
   "cell_type": "code",
   "execution_count": null,
   "metadata": {},
   "outputs": [],
   "source": []
  },
  {
   "cell_type": "code",
   "execution_count": 32,
   "metadata": {},
   "outputs": [],
   "source": [
    "def viterbi(grid_world, tower_loc, noisy_dis, distance_dict):\n",
    "    possible_path = {}\n",
    "    possible_cells_zero = find_possible_cells(grid_world, noisy_dis[0], distance_dict)\n",
    "    possible_path[0] = {}\n",
    "    for cell in possible_cells_zero:\n",
    "        possible_path[0][cell] = {}\n",
    "        possible_path[0][cell]['previous'] = 'root'\n",
    "        possible_path[0][cell]['prob'] = find_evidence_probability(distance_dict, cell)   \n",
    "        \n",
    "    for step in range(1, len(noisy_dis)):\n",
    "        possible_path[step] = {}\n",
    "        possible_cells = find_possible_cells(grid_world, noisy_dis[step], distance_dict)\n",
    "        for cell in possible_path[step-1]:\n",
    "            transition_probability = find_transition_probability(grid_world,cell)\n",
    "            for neighbor in transition_probability:\n",
    "                if neighbor in possible_cells:\n",
    "                    prob = transition_probability[neighbor] * find_evidence_probability(distance_dict, cell)\\\n",
    "                    * possible_path[step-1][cell]['prob']\n",
    "                    if neighbor in possible_path[step]:\n",
    "                        possible_path[step][neighbor]['previous'][cell] = prob\n",
    "                        if prob > possible_path[step][neighbor]['prob']:\n",
    "                            possible_path[step][neighbor]['prob'] = prob\n",
    "                    else:\n",
    "                        possible_path[step][neighbor] = {}\n",
    "                        possible_path[step][neighbor]['previous'] = {}\n",
    "                        possible_path[step][neighbor]['previous'][cell] = prob\n",
    "                        possible_path[step][neighbor]['prob'] = prob\n",
    "    \n",
    "    return possible_path\n",
    "                        \n",
    "\n",
    "        \n",
    "    "
   ]
  },
  {
   "cell_type": "code",
   "execution_count": null,
   "metadata": {},
   "outputs": [],
   "source": []
  },
  {
   "cell_type": "code",
   "execution_count": 11,
   "metadata": {},
   "outputs": [],
   "source": [
    "def max_key_in_dict(dic):\n",
    "    k = 0\n",
    "    value = -100000\n",
    "    for key in dic:\n",
    "        if dic[key] > value:\n",
    "            value = dic[key]\n",
    "            k = key\n",
    "    return k"
   ]
  },
  {
   "cell_type": "code",
   "execution_count": 12,
   "metadata": {},
   "outputs": [],
   "source": [
    "def most_possible_paths(possible_path):\n",
    "    max_prob = 0\n",
    "    path = []\n",
    "    p = 0\n",
    "    for point in possible_path[10]:\n",
    "        if possible_path[10][point]['prob'] > max_prob:\n",
    "            max_prob = possible_path[10][point]['prob']\n",
    "            p = point\n",
    "    path.append(p)\n",
    "    p = max_key_in_dict(possible_path[10][p]['previous'])\n",
    "    path.append(p)\n",
    "    for step in range(9,0,-1):\n",
    "        for point in possible_path[step]:\n",
    "            if point == p:\n",
    "                p = max_key_in_dict(possible_path[step][p]['previous'])\n",
    "                path.append(p)\n",
    "    path_forward = []\n",
    "    \n",
    "    for i in range(len(path)):\n",
    "        step = 10 - i\n",
    "        path_forward.append(path[step])\n",
    "    return path_forward\n",
    "                "
   ]
  },
  {
   "cell_type": "code",
   "execution_count": null,
   "metadata": {},
   "outputs": [],
   "source": []
  },
  {
   "cell_type": "code",
   "execution_count": null,
   "metadata": {},
   "outputs": [],
   "source": []
  },
  {
   "cell_type": "code",
   "execution_count": 25,
   "metadata": {},
   "outputs": [],
   "source": [
    "distance_dict = find_distance_matrix(grid_world, tower_loc)"
   ]
  },
  {
   "cell_type": "code",
   "execution_count": 33,
   "metadata": {},
   "outputs": [],
   "source": [
    "possible_path = viterbi(grid_world, tower_loc, noisy_dis, distance_dict)"
   ]
  },
  {
   "cell_type": "code",
   "execution_count": 106,
   "metadata": {},
   "outputs": [
    {
     "name": "stdout",
     "output_type": "stream",
     "text": [
      "The most possible path is:\n"
     ]
    }
   ],
   "source": [
    "print(\"The most possible path is:\")"
   ]
  },
  {
   "cell_type": "code",
   "execution_count": 35,
   "metadata": {
    "scrolled": false
   },
   "outputs": [
    {
     "name": "stdout",
     "output_type": "stream",
     "text": [
      "[(5, 3), (6, 3), (7, 3), (8, 3), (8, 2), (7, 2), (7, 1), (6, 1), (5, 1), (4, 1), (3, 1)]\n"
     ]
    }
   ],
   "source": [
    "print(most_possible_paths(possible_path))"
   ]
  },
  {
   "cell_type": "code",
   "execution_count": null,
   "metadata": {},
   "outputs": [],
   "source": []
  },
  {
   "cell_type": "code",
   "execution_count": null,
   "metadata": {},
   "outputs": [],
   "source": []
  }
 ],
 "metadata": {
  "kernelspec": {
   "display_name": "Python 3",
   "language": "python",
   "name": "python3"
  },
  "language_info": {
   "codemirror_mode": {
    "name": "ipython",
    "version": 3
   },
   "file_extension": ".py",
   "mimetype": "text/x-python",
   "name": "python",
   "nbconvert_exporter": "python",
   "pygments_lexer": "ipython3",
   "version": "3.7.6"
  }
 },
 "nbformat": 4,
 "nbformat_minor": 4
}
