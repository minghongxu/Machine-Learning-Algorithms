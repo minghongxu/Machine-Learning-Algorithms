{
 "cells": [
  {
   "cell_type": "code",
   "execution_count": 2,
   "metadata": {},
   "outputs": [],
   "source": [
    "import math\n",
    "import numpy as np\n",
    "import random\n",
    "from numpy import linalg as LA\n",
    "import matplotlib.pyplot as plt"
   ]
  },
  {
   "cell_type": "markdown",
   "metadata": {},
   "source": [
    "### Perceptron Learning algorithm"
   ]
  },
  {
   "cell_type": "code",
   "execution_count": 3,
   "metadata": {},
   "outputs": [],
   "source": [
    "classification_file = 'classification.txt'"
   ]
  },
  {
   "cell_type": "code",
   "execution_count": 4,
   "metadata": {},
   "outputs": [],
   "source": [
    "classification_array = np.loadtxt(classification_file, delimiter=',')"
   ]
  },
  {
   "cell_type": "code",
   "execution_count": 5,
   "metadata": {},
   "outputs": [],
   "source": [
    "perceptron_array = classification_array[:,:4]"
   ]
  },
  {
   "cell_type": "code",
   "execution_count": 65,
   "metadata": {},
   "outputs": [],
   "source": [
    "class Linear_Classification:\n",
    "    def __init__(self, array, alpha, max_iter):\n",
    "        self.alpha = alpha #learning_rate\n",
    "        self.array = array\n",
    "        self.dimension = array.shape[1]-1\n",
    "        self.data_numbers = array.shape[0]\n",
    "        self.max_iter = max_iter\n",
    "          \n",
    "    def new_X(self):\n",
    "        return np.hstack(((np.zeros([self.data_numbers,1])+1),self.array[:,:3]))\n",
    "    \n",
    "    def perceptron_learning(self):\n",
    "        X = self.new_X()\n",
    "        W = np.zeros([self.dimension+1,1])\n",
    "        iterat = 0\n",
    "        while iterat < self.max_iter:\n",
    "            iterat += 1\n",
    "            update = False\n",
    "            for i in range(self.data_numbers):\n",
    "                if np.dot(X[i,:], W) < 0 and self.array[i,3] == 1:\n",
    "                    W = W + self.alpha * X[i,:].reshape(self.dimension+1,1)\n",
    "                    update = True\n",
    "                    #break\n",
    "                elif np.dot(X[i,:], W) >= 0 and self.array[i,3] == -1:\n",
    "                    W = W - self.alpha * X[i,:].reshape(self.dimension+1,1)\n",
    "                    update = True\n",
    "                    #break\n",
    "            if not update:\n",
    "                break\n",
    "        print(iterat)\n",
    "        return W\n",
    "    \n",
    "    def pocket_algorithm(self):\n",
    "        X = self.new_X()\n",
    "        W = np.zeros([self.dimension+1, 1])\n",
    "        iterat = 0\n",
    "        best_violated = self.data_numbers\n",
    "        W_best = W\n",
    "        violated = []\n",
    "        while iterat < self.max_iter and violated != 0:\n",
    "            iterat += 1\n",
    "            count = 0\n",
    "            violated_index = []\n",
    "            for i in range(self.data_numbers):\n",
    "                if np.dot(X[i,:], W) < 0 and self.array[i,3] == 1:\n",
    "                    count += 1\n",
    "                    violated_index.append(i)\n",
    "                elif np.dot(X[i,:], W) >= 0 and self.array[i,3] == -1:\n",
    "                    count += 1\n",
    "                    violated_index.append(i)\n",
    "            ind = random.choice(violated_index)\n",
    "            #ind = violated_index[0]\n",
    "            if np.dot(X[ind,:], W) < 0 and self.array[ind,3] == 1:\n",
    "                W = W + self.alpha * X[ind,:].reshape(self.dimension+1,1)\n",
    "            elif np.dot(X[ind,:], W) >= 0 and self.array[ind,3] == -1:\n",
    "                W = W - self.alpha * X[ind,:].reshape(self.dimension+1,1)\n",
    "            if count <= best_violated:\n",
    "                best_violated = count\n",
    "                W_best = W\n",
    "            violated.append(count)\n",
    "        plt.plot(violated)\n",
    "        plt.show()\n",
    "        return W_best\n",
    "    \n",
    "    def accuracy(self, W):\n",
    "        X = self.new_X()\n",
    "        count = 0\n",
    "        for i in range(self.data_numbers):\n",
    "            if np.dot(X[i,:], W) < 0 and self.array[i,3] == 1:\n",
    "                count += 1\n",
    "            elif np.dot(X[i,:], W) >= 0 and self.array[i,3] == -1:\n",
    "                count += 1\n",
    "        return 1 - count/self.data_numbers"
   ]
  },
  {
   "cell_type": "code",
   "execution_count": 44,
   "metadata": {},
   "outputs": [],
   "source": [
    "perceptron = Linear_Classification(perceptron_array, 1, 7000)"
   ]
  },
  {
   "cell_type": "code",
   "execution_count": 45,
   "metadata": {},
   "outputs": [
    {
     "name": "stdout",
     "output_type": "stream",
     "text": [
      "1238\n"
     ]
    }
   ],
   "source": [
    "W_perceptron = perceptron.perceptron_learning()"
   ]
  },
  {
   "cell_type": "code",
   "execution_count": 46,
   "metadata": {},
   "outputs": [
    {
     "data": {
      "text/plain": [
       "array([[  0.        ],\n",
       "       [ 93.99358666],\n",
       "       [-75.3947041 ],\n",
       "       [-56.31315876]])"
      ]
     },
     "execution_count": 46,
     "metadata": {},
     "output_type": "execute_result"
    }
   ],
   "source": [
    "print(W_perceptron)"
   ]
  },
  {
   "cell_type": "code",
   "execution_count": 47,
   "metadata": {},
   "outputs": [
    {
     "data": {
      "text/plain": [
       "1.0"
      ]
     },
     "execution_count": 47,
     "metadata": {},
     "output_type": "execute_result"
    }
   ],
   "source": [
    "print(perceptron.accuracy(W_perceptron))"
   ]
  },
  {
   "cell_type": "markdown",
   "metadata": {},
   "source": [
    "### Pocket algorithm"
   ]
  },
  {
   "cell_type": "code",
   "execution_count": 12,
   "metadata": {},
   "outputs": [],
   "source": [
    "pocket_array = np.hstack((classification_array[:,:3], classification_array[:,4:]))"
   ]
  },
  {
   "cell_type": "code",
   "execution_count": 66,
   "metadata": {},
   "outputs": [],
   "source": [
    "pocket = Linear_Classification(pocket_array, 1, 7000)"
   ]
  },
  {
   "cell_type": "code",
   "execution_count": 67,
   "metadata": {
    "scrolled": false
   },
   "outputs": [
    {
     "data": {
      "image/png": "[encoded data removed]",
      "text/plain": [
       "<Figure size 432x288 with 1 Axes>"
      ]
     },
     "metadata": {
      "needs_background": "light"
     },
     "output_type": "display_data"
    }
   ],
   "source": [
    "W_pocket = pocket.pocket_algorithm()"
   ]
  },
  {
   "cell_type": "code",
   "execution_count": 68,
   "metadata": {},
   "outputs": [
    {
     "data": {
      "text/plain": [
       "array([[ 1.        ],\n",
       "       [-0.92621796],\n",
       "       [ 1.41772507],\n",
       "       [ 0.78116361]])"
      ]
     },
     "execution_count": 68,
     "metadata": {},
     "output_type": "execute_result"
    }
   ],
   "source": [
    "print(W_pocket)"
   ]
  },
  {
   "cell_type": "code",
   "execution_count": 69,
   "metadata": {},
   "outputs": [
    {
     "data": {
      "text/plain": [
       "0.494"
      ]
     },
     "execution_count": 69,
     "metadata": {},
     "output_type": "execute_result"
    }
   ],
   "source": [
    "print(pocket.accuracy(W_pocket))"
   ]
  },
  {
   "cell_type": "markdown",
   "metadata": {},
   "source": [
    "### Logistic Regression"
   ]
  },
  {
   "cell_type": "code",
   "execution_count": 73,
   "metadata": {},
   "outputs": [],
   "source": [
    "logistic_array = np.hstack((classification_array[:,:3], classification_array[:,4:]))"
   ]
  },
  {
   "cell_type": "code",
   "execution_count": 91,
   "metadata": {},
   "outputs": [],
   "source": [
    "class Logistic_Regression:\n",
    "    def __init__(self, array, alpha, max_iter):\n",
    "        self.alpha = alpha #learning_rate\n",
    "        self.array = array\n",
    "        self.dimension = array.shape[1]-1\n",
    "        self.data_numbers = array.shape[0]\n",
    "        self.max_iter = max_iter\n",
    "          \n",
    "    def new_X(self):\n",
    "        return np.hstack(((np.zeros([self.data_numbers,1])+1),self.array[:,:3]))\n",
    "    \n",
    "    def sigmoid(self,s):\n",
    "        return (1 / (1+np.exp(-s)))\n",
    "    \n",
    "    def logistic_learning(self):\n",
    "        W = np.random.random_sample((self.dimension+1, 1))\n",
    "        Y = self.array[:,3:]\n",
    "        X = self.new_X()\n",
    "        iterat = 0\n",
    "        while iterat < self.max_iter:\n",
    "            iterat += 1\n",
    "            degree = np.multiply((np.dot(X,W)),Y)\n",
    "            delta_Ein=np.sum((np.multiply(Y.T,X.T) / (1 + np.exp(degree)).T).T,axis=0)\n",
    "            delta_Ein=delta_Ein / self.data_numbers\n",
    "            delta_Ein = delta_Ein.reshape(4,1)\n",
    "            W += self.alpha * delta_Ein\n",
    "        return W\n",
    "\n",
    "    def accuracy(self, W):\n",
    "        X = self.new_X()\n",
    "        count = 0\n",
    "        for i in range(self.data_numbers):\n",
    "            if np.dot(X[i,:], W) < 0 and self.array[i,3] == 1:\n",
    "                count += 1\n",
    "            elif np.dot(X[i,:], W) >= 0 and self.array[i,3] == -1:\n",
    "                count += 1\n",
    "        return 1 - count/self.data_numbers"
   ]
  },
  {
   "cell_type": "code",
   "execution_count": 112,
   "metadata": {},
   "outputs": [],
   "source": [
    "l = Logistic_Regression(logistic_array, 0.1, 7000)"
   ]
  },
  {
   "cell_type": "code",
   "execution_count": 113,
   "metadata": {},
   "outputs": [],
   "source": [
    "W_logistic = l.logistic_learning()"
   ]
  },
  {
   "cell_type": "code",
   "execution_count": 114,
   "metadata": {},
   "outputs": [
    {
     "data": {
      "text/plain": [
       "array([[-0.03158647],\n",
       "       [-0.17764228],\n",
       "       [ 0.11450547],\n",
       "       [ 0.07675847]])"
      ]
     },
     "execution_count": 114,
     "metadata": {},
     "output_type": "execute_result"
    }
   ],
   "source": [
    "W_logistic"
   ]
  },
  {
   "cell_type": "code",
   "execution_count": 115,
   "metadata": {
    "scrolled": true
   },
   "outputs": [
    {
     "data": {
      "text/plain": [
       "0.5295000000000001"
      ]
     },
     "execution_count": 115,
     "metadata": {},
     "output_type": "execute_result"
    }
   ],
   "source": [
    "l.accuracy(W_logistic)"
   ]
  },
  {
   "cell_type": "markdown",
   "metadata": {},
   "source": [
    "### Linear Regression"
   ]
  },
  {
   "cell_type": "code",
   "execution_count": 12,
   "metadata": {},
   "outputs": [],
   "source": [
    "linear_regression_file = 'linear-regression.txt'"
   ]
  },
  {
   "cell_type": "code",
   "execution_count": 13,
   "metadata": {},
   "outputs": [],
   "source": [
    "linear_regression_array = np.loadtxt(linear_regression_file, delimiter=',')"
   ]
  },
  {
   "cell_type": "code",
   "execution_count": 15,
   "metadata": {},
   "outputs": [],
   "source": [
    "class Linear_Regression:\n",
    "    def __init__(self, array):\n",
    "        self.array = array\n",
    "        self.dimension = array.shape[1]-1\n",
    "        self.data_numbers = array.shape[0]\n",
    "          \n",
    "    def new_X(self):\n",
    "        return np.hstack(((np.zeros([self.data_numbers,1])+1),self.array[:,:2]))\n",
    "    \n",
    "    def fit(self):\n",
    "        X = self.new_X()\n",
    "        Y = self.array[:,2:]\n",
    "        epsilon = LA.inv(np.dot(X.T,X))\n",
    "        W_temp = np.dot(epsilon,X.T)\n",
    "        return np.dot(W_temp,Y)"
   ]
  },
  {
   "cell_type": "code",
   "execution_count": 16,
   "metadata": {},
   "outputs": [],
   "source": [
    "li = Linear_Regression(linear_regression_array)"
   ]
  },
  {
   "cell_type": "code",
   "execution_count": 17,
   "metadata": {},
   "outputs": [
    {
     "data": {
      "text/plain": [
       "array([[0.01523535],\n",
       "       [1.08546357],\n",
       "       [3.99068855]])"
      ]
     },
     "execution_count": 17,
     "metadata": {},
     "output_type": "execute_result"
    }
   ],
   "source": [
    "li.fit()"
   ]
  },
  {
   "cell_type": "code",
   "execution_count": null,
   "metadata": {},
   "outputs": [],
   "source": []
  }
 ],
 "metadata": {
  "kernelspec": {
   "display_name": "Python 3",
   "language": "python",
   "name": "python3"
  },
  "language_info": {
   "codemirror_mode": {
    "name": "ipython",
    "version": 3
   },
   "file_extension": ".py",
   "mimetype": "text/x-python",
   "name": "python",
   "nbconvert_exporter": "python",
   "pygments_lexer": "ipython3",
   "version": "3.7.4"
  }
 },
 "nbformat": 4,
 "nbformat_minor": 4
}
