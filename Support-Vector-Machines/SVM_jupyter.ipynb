{
 "cells": [
  {
   "cell_type": "code",
   "execution_count": 7,
   "metadata": {},
   "outputs": [],
   "source": [
    "import math\n",
    "import numpy as np\n",
    "from numpy import linalg as LA\n",
    "import matplotlib.pyplot as plt\n",
    "import cvxopt\n",
    "import sympy"
   ]
  },
  {
   "cell_type": "code",
   "execution_count": 8,
   "metadata": {},
   "outputs": [],
   "source": [
    "linfile = 'linsep.txt'\n",
    "nonlinfile = 'nonlinsep.txt'"
   ]
  },
  {
   "cell_type": "code",
   "execution_count": 9,
   "metadata": {},
   "outputs": [],
   "source": [
    "lin_array = np.loadtxt(linfile, delimiter=',')\n",
    "nonlin_array = np.loadtxt(nonlinfile, delimiter=',')"
   ]
  },
  {
   "cell_type": "code",
   "execution_count": null,
   "metadata": {},
   "outputs": [],
   "source": []
  },
  {
   "cell_type": "code",
   "execution_count": 10,
   "metadata": {},
   "outputs": [],
   "source": [
    "class SVM:\n",
    "    def __init__(self,input_array,whether_lin):\n",
    "        self.array = input_array\n",
    "        self.y = input_array[:,-1]\n",
    "        self.x = input_array[:,:-1]\n",
    "        self.size = input_array.shape[0]\n",
    "        self.dim = input_array.shape[1] - 1\n",
    "        self.whether_lin = whether_lin\n",
    "        self.alpha = self.get_alpha()\n",
    "        \n",
    "    def kernal(self, x1, x2):\n",
    "        return (1+1*np.dot(x1, x2.T))**2\n",
    "        \n",
    "    def get_alpha(self):\n",
    "        temp1 = np.outer(self.y, self.y)\n",
    "        if self.whether_lin:\n",
    "            temp2 = np.dot(self.x, self.x.T)\n",
    "        else:\n",
    "            temp2 = self.kernal(self.x,self.x)\n",
    "        Q = temp1 * temp2\n",
    "        P = cvxopt.matrix(Q)\n",
    "        q = cvxopt.matrix(np.ones(self.size)*-1)\n",
    "        G = cvxopt.matrix(np.diag(np.ones(self.size) * -1))\n",
    "        h = cvxopt.matrix(np.zeros(self.size))\n",
    "        A = cvxopt.matrix(self.y.reshape((1, self.size)))\n",
    "        b = cvxopt.matrix(0.0)\n",
    "        result = cvxopt.solvers.qp(P, q, G, h, A, b)\n",
    "        alpha = np.array(result['x']).reshape(self.size,)\n",
    "        for i in range(len(alpha)):\n",
    "            if alpha[i] < 0.00001:\n",
    "                alpha[i] = 0\n",
    "        return alpha\n",
    "    \n",
    "    def get_parameter(self):\n",
    "        if self.whether_lin:\n",
    "            w = sum(self.alpha.reshape(self.size,1) * self.y.reshape(self.size,1) * self.x)\n",
    "            index = np.where(self.alpha != 0)\n",
    "            n = index[0][1]\n",
    "            b = self.y[n] - np.dot(w.reshape(1,self.dim), self.x[n].reshape(self.dim, 1))\n",
    "            return w, b\n",
    "        else:\n",
    "            index = np.where(self.alpha != 0)\n",
    "            b = 0\n",
    "            for i in index[0]:\n",
    "                b += (self.y[i] - sum(self.alpha * self.y * self.kernal(self.x, self.x[i])))\n",
    "            b = b/len(index[0])\n",
    "            return b\n",
    "    \n",
    "    def curve_func(self,x):\n",
    "        index = np.where(self.alpha != 0)\n",
    "        b = 0\n",
    "        for i in index[0]:\n",
    "            b += (self.y[i] - sum(self.alpha * self.y * self.kernal(self.x, self.x[i])))\n",
    "        b = b/len(index[0])\n",
    "        \n",
    "        y = sympy.Symbol('y')\n",
    "        var = np.array([x,y]).reshape(1,2)\n",
    "        f = self.kernal(self.x,var)\n",
    "        f.reshape(100,)# +b\n",
    "        s = sum(self.alpha * self.y * f.reshape(100,))\n",
    "        result = sympy.solve([s + b], [y])\n",
    "        l = []\n",
    "        for i in result:\n",
    "            num = complex(i[0])\n",
    "            if num.imag == 0:\n",
    "                l.append(i[0])\n",
    "        return l\n",
    "    \n",
    "    def get_support_vectors(self):\n",
    "        index = np.where(self.alpha != 0)\n",
    "        return self.x[index]"
   ]
  },
  {
   "cell_type": "code",
   "execution_count": 11,
   "metadata": {
    "scrolled": true
   },
   "outputs": [
    {
     "name": "stdout",
     "output_type": "stream",
     "text": [
      "linear separable part\n"
     ]
    }
   ],
   "source": [
    "print('linear separable part')"
   ]
  },
  {
   "cell_type": "code",
   "execution_count": 12,
   "metadata": {
    "scrolled": true
   },
   "outputs": [
    {
     "name": "stdout",
     "output_type": "stream",
     "text": [
      "     pcost       dcost       gap    pres   dres\n",
      " 0: -2.0636e+01 -4.3905e+01  3e+02  2e+01  2e+00\n",
      " 1: -2.2372e+01 -3.7202e+01  9e+01  5e+00  5e-01\n",
      " 2: -2.3112e+01 -3.8857e+01  5e+01  2e+00  2e-01\n",
      " 3: -2.8318e+01 -3.3963e+01  1e+01  4e-01  4e-02\n",
      " 4: -3.2264e+01 -3.3927e+01  2e+00  1e-02  1e-03\n",
      " 5: -3.3568e+01 -3.3764e+01  2e-01  1e-03  1e-04\n",
      " 6: -3.3737e+01 -3.3739e+01  2e-03  1e-05  1e-06\n",
      " 7: -3.3739e+01 -3.3739e+01  2e-05  1e-07  1e-08\n",
      " 8: -3.3739e+01 -3.3739e+01  2e-07  1e-09  1e-10\n",
      "Optimal solution found.\n"
     ]
    }
   ],
   "source": [
    "s = SVM(lin_array, True)"
   ]
  },
  {
   "cell_type": "code",
   "execution_count": 13,
   "metadata": {},
   "outputs": [],
   "source": [
    "w, b = s.get_parameter()"
   ]
  },
  {
   "cell_type": "code",
   "execution_count": 14,
   "metadata": {},
   "outputs": [
    {
     "name": "stdout",
     "output_type": "stream",
     "text": [
      "w,b\n",
      "[ 7.25005616 -3.86188932] [[-0.1069872]]\n"
     ]
    }
   ],
   "source": [
    "print('w,b')\n",
    "print(w,b)"
   ]
  },
  {
   "cell_type": "code",
   "execution_count": 15,
   "metadata": {},
   "outputs": [],
   "source": [
    "support_vectors = s.get_support_vectors()"
   ]
  },
  {
   "cell_type": "code",
   "execution_count": 16,
   "metadata": {},
   "outputs": [
    {
     "name": "stdout",
     "output_type": "stream",
     "text": [
      "support_vectors:\n",
      "[[0.24979414 0.18230306]\n",
      " [0.3917889  0.96675591]\n",
      " [0.02066458 0.27003158]]\n"
     ]
    }
   ],
   "source": [
    "print('support_vectors:')\n",
    "print(support_vectors)"
   ]
  },
  {
   "cell_type": "code",
   "execution_count": 467,
   "metadata": {},
   "outputs": [
    {
     "data": {
      "image/png": "[encoded data removed]",
      "text/plain": [
       "<Figure size 432x288 with 1 Axes>"
      ]
     },
     "metadata": {
      "needs_background": "light"
     },
     "output_type": "display_data"
    }
   ],
   "source": [
    "plt.scatter(lin_array[:,0], lin_array[:,1], c = lin_array[:,2])\n",
    "plt.scatter(support_vectors[:,0], support_vectors[:,1])\n",
    "x = np.linspace(0,1,10)\n",
    "y = (-b-w[0]*x)/w[1]\n",
    "plt.plot(x,y[0])\n",
    "plt.show()"
   ]
  },
  {
   "cell_type": "code",
   "execution_count": null,
   "metadata": {},
   "outputs": [],
   "source": []
  },
  {
   "cell_type": "code",
   "execution_count": 5,
   "metadata": {},
   "outputs": [
    {
     "name": "stdout",
     "output_type": "stream",
     "text": [
      "\n"
     ]
    }
   ],
   "source": [
    "print()"
   ]
  },
  {
   "cell_type": "code",
   "execution_count": 17,
   "metadata": {},
   "outputs": [
    {
     "name": "stdout",
     "output_type": "stream",
     "text": [
      "nonlinear separable part\n"
     ]
    }
   ],
   "source": [
    "print('nonlinear separable part')"
   ]
  },
  {
   "cell_type": "code",
   "execution_count": 18,
   "metadata": {
    "scrolled": true
   },
   "outputs": [
    {
     "name": "stdout",
     "output_type": "stream",
     "text": [
      "     pcost       dcost       gap    pres   dres\n",
      " 0: -4.0666e+01 -1.0206e+02  5e+02  2e+01  3e+00\n",
      " 1: -1.5924e+02 -2.2789e+02  3e+02  1e+01  1e+00\n",
      " 2: -2.9280e+02 -3.6244e+02  3e+02  1e+01  1e+00\n",
      " 3: -5.7710e+02 -6.0303e+02  4e+02  9e+00  1e+00\n",
      " 4: -1.2873e+03 -1.2409e+03  5e+02  9e+00  1e+00\n",
      " 5: -1.2647e+03 -1.0924e+03  7e+02  8e+00  9e-01\n",
      " 6: -6.9076e+02 -4.0802e+02  1e+03  5e+00  6e-01\n",
      " 7: -1.8688e+02 -2.9779e+01  4e+02  1e+00  2e-01\n",
      " 8: -3.4731e+00 -5.2038e-02  1e+01  3e-02  4e-03\n",
      " 9: -3.5053e-02 -3.8447e-02  1e-01  3e-04  3e-05\n",
      "10: -2.1413e-02 -2.7448e-02  6e-03  1e-17  2e-13\n",
      "11: -2.6166e-02 -2.6328e-02  2e-04  1e-17  1e-13\n",
      "12: -2.6293e-02 -2.6295e-02  2e-06  5e-18  2e-13\n",
      "13: -2.6295e-02 -2.6295e-02  2e-08  5e-18  2e-13\n",
      "Optimal solution found.\n"
     ]
    }
   ],
   "source": [
    "nl = SVM(nonlin_array, False)"
   ]
  },
  {
   "cell_type": "code",
   "execution_count": 19,
   "metadata": {},
   "outputs": [],
   "source": [
    "b_nl = nl.get_parameter()"
   ]
  },
  {
   "cell_type": "code",
   "execution_count": 20,
   "metadata": {},
   "outputs": [
    {
     "name": "stdout",
     "output_type": "stream",
     "text": [
      "b\n",
      "-16.66005056662167\n"
     ]
    }
   ],
   "source": [
    "print('b')\n",
    "print(b_nl)"
   ]
  },
  {
   "cell_type": "code",
   "execution_count": 21,
   "metadata": {
    "scrolled": false
   },
   "outputs": [],
   "source": [
    "support_vectors_nl = nl.get_support_vectors()"
   ]
  },
  {
   "cell_type": "code",
   "execution_count": 22,
   "metadata": {
    "scrolled": true
   },
   "outputs": [
    {
     "name": "stdout",
     "output_type": "stream",
     "text": [
      "support_vectors:\n",
      "[[ -8.47422847   5.15621613]\n",
      " [-10.260969     2.07391791]\n",
      " [  1.3393313  -10.29098822]\n",
      " [  9.67917724   4.3759541 ]\n",
      " [ -6.80002274  -7.02384335]\n",
      " [  9.90143538  -0.31483149]]\n"
     ]
    }
   ],
   "source": [
    "print('support_vectors:')\n",
    "print(support_vectors_nl)"
   ]
  },
  {
   "cell_type": "code",
   "execution_count": 460,
   "metadata": {
    "scrolled": false
   },
   "outputs": [
    {
     "data": {
      "text/plain": [
       "[<matplotlib.lines.Line2D at 0x12bb6d810>]"
      ]
     },
     "execution_count": 460,
     "metadata": {},
     "output_type": "execute_result"
    },
    {
     "data": {
      "image/png": "[encoded data removed]",
      "text/plain": [
       "<Figure size 432x288 with 1 Axes>"
      ]
     },
     "metadata": {
      "needs_background": "light"
     },
     "output_type": "display_data"
    }
   ],
   "source": [
    "plt.scatter(nonlin_array[:,0], nonlin_array[:,1], c = nonlin_array[:,2])\n",
    "plt.scatter(support_vectors_nl[:,0], support_vectors_nl[:,1])\n",
    "\n",
    "x = np.linspace(-20,20,200)\n",
    "y1 = []\n",
    "y2 = []\n",
    "for i in x:\n",
    "    y = nl.curve_func(i)\n",
    "    if len(y) == 0:\n",
    "        y1.append(None)\n",
    "        y2.append(None)\n",
    "    elif len(y)<2 and len(y)>0:\n",
    "        y1.append(y[0])\n",
    "        y2.append(y[0])\n",
    "    else:\n",
    "        y1.append(y[0])\n",
    "        y2.append(y[1])\n",
    "plt.plot(x,y1)\n",
    "plt.plot(x,y2)\n",
    "plt.show()"
   ]
  },
  {
   "cell_type": "code",
   "execution_count": null,
   "metadata": {},
   "outputs": [],
   "source": []
  }
 ],
 "metadata": {
  "kernelspec": {
   "display_name": "Python 3",
   "language": "python",
   "name": "python3"
  },
  "language_info": {
   "codemirror_mode": {
    "name": "ipython",
    "version": 3
   },
   "file_extension": ".py",
   "mimetype": "text/x-python",
   "name": "python",
   "nbconvert_exporter": "python",
   "pygments_lexer": "ipython3",
   "version": "3.7.4"
  }
 },
 "nbformat": 4,
 "nbformat_minor": 4
}
